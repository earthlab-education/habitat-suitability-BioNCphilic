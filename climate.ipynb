{
  "cells": [
    {
      "cell_type": "markdown",
      "id": "4d57d093-4872-4994-ba5c-0dc6ff0dec7b",
      "metadata": {},
      "source": [
        "# Habitat Suitability under Climate Change\n",
        "\n",
        "## Study Question: What are the potential climate change impacts on headwater habitats where _Rhododendron maximum_ currently exist?\n",
        "\n",
        "### Our changing climate is altering where key species can live.This project creates a habitat suitability model for _Rododendron maximum_ using the [MACAv2 dataset](https://www.climatologylab.org/maca.html). This suitability assessment will be based on combining multiple data layers related to soil, topography, and climate. \n",
        "\n",
        "### _Rhododendron maximum_ is found in North Carolina and Maine which are both part of the Appalachian Mountains. Dudleya, et al identify _Rhododendron maximum_ as an emerging foundation species following the decline of the American Chestnut and Eastern Hemlock. In addition, \"Rhododendron affects numerous riparian forest ecosystem processes, including decomposition and nutrient cycling.\" Of the four hardiness division established by Sakai, et al, _Rhododendron maximum_ is listed in the very hardy category with a tolerance for temperatures down to -40 F, although the USDA recommends a minimum temperature of -13 F with 150 frost free days. _Rhododendron maximum_ is adapted to medium & coarse textured soils with drought tolerance and medium tolerance for fire. It is found at elevations up to 6200 feet which includes all of Franklin County, ME and most of Jackson County, NC except for the highest peak Richland Balsam on the Blue Ridge Parkway. \n",
        "\n",
        "\n",
        "## Climate Models\n",
        "### This study will look at data from 1988 to 2018 in Jackson County, NC and Franklin County, ME. This historic time period was chosen because of the severe drought on the east coast of the US. According to Changnon, the 1988 drought was the worst in a century. In addition, climate change from 2030 to 2060 will be projected. A range of climate models were selected using a Future Climate Scatter tool from the climate toolbox so that the models have different national origins. For each model, here is some information on the model components and projection for Moscow, Idaho between 2040 and 2069 based upon the RCP8.5 scenario. The scenario assumes high greenhouse gas emissions as the world remains heavily reliant on fossil fuels and continued global economic growth. A key aspect of RCP8.5 is the assumption of minimal implementation of policies aimed at mitigating climate change, so this is a worst case scenario.\n",
        "\n",
        "* **MIROC5** - Model for Interdisciplinary Research on Climate (Japan)\n",
        "    * Future projection [Temp. 85.1 F; Precip. 10.1 in.]\n",
        "    * Integrates multiple components like atmosphere, ocean, land, sea ice, and rivers to study complex interactions \n",
        "* **NorESM1-M** - Norwegian Earth System Model (Norway)\n",
        "    * Future projection [Temp. 88.4 F; Precip. 9.7 in.]\n",
        "    * Includes components for modeling the atmosphere, ocean, sea ice, land, and biogeochemical processes and capabilities for simulating interactions between chemistry, aerosols, clouds, and radiation.\n",
        "* **IPSL-CM5A-MR** - Institut Pierre Simon Laplace fifth generation climate model medium resolution (France)\n",
        "    * Past projection [Temp. 80.0 F; Precip. 8.6 in.]\n",
        "    *  Includes components for simulating various aspects of the Earth's climate system, including atmospheric physics, ocean dynamics, and land surface processes.\n",
        "* **GFDL-ESM2M** - Geophysical Fluid Dynamics Laboratory Earth System Model (USA)\n",
        "    * Past projection [Temp. 79.5 F; Precip. 7.9 in.] \n",
        "    * Includes representations of biogeochemical cycles, particularly the carbon cycle. \n",
        "### Using both historic and projected climate parameters will inform the habitat suitability analysis for _Rhododendron maximum_ along the Appalachian Mountains.\n"
      ]
    },
    {
      "cell_type": "markdown",
      "id": "7b733766-e23f-43a2-a7fb-09ce0ddcf059",
      "metadata": {},
      "source": [
        "## Information Sources\n",
        "* Maura P. Dudleya, Mary Freeman, Seth Wenger, Rhett Jackson, and Catherine M. Pringle. 15 September 2020. Rethinking foundation species in a changing world: the case for Rhododendron maximum as an emerging foundation species in shifting ecosystems of the Southern Appalachians. _Forest Ecology and Management_ Volume 472, p.  118240. available online: https://doi.org/10.1016/j.foreco.2020.118240\n",
        "* A. Sakai, L. Fuchigami, and C.J. Weiser. 1986. Cold Hardiness in the Genus Rhododendron. _Journal of the American Society for Horticultural Science_ 111(2):273-280. \n",
        "* USDA PLANTS Database. available online: https://plants.usda.gov/plant-profile/RHMA4/characteristics\n",
        "* Flora of North America Association. 2020. available online: http://floranorthamerica.org/Rhododendron_maximum\n",
        "* Stanley A. Changnon. 01 Sep 1989. The 1988 Drought, Barges, and Diversion. _Bulletin of the American Meteorological Society_ Volume 70: Issue 9 pp:1092-1104. available online: https://journals.ametsoc.org/view/journals/bams/70/9/1520-0477_1989_070_1092_tdbad_2_0_co_2.xml\n",
        "* Hegewisch, K.C., Laquindanum, V., Fleishman, E., Hartmann, H., and Mills-Novoa, M.. Climate Toolbox Tool Summary series. https://ClimateToolbox.org.\n",
        "* Explainer: The high-emissions ‘RCP8.5’ global warming scenario. available online at: https://www.carbonbrief.org/explainer-the-high-emissions-rcp8-5-global-warming-scenario/\n",
        "* Google Gemini was used to identify sources and compile known information. In addition, Google Gemini helped identify coding errors and suggested remedies."
      ]
    },
    {
      "cell_type": "code",
      "execution_count": null,
      "id": "eb96b2fb",
      "metadata": {},
      "outputs": [],
      "source": [
        "pip install pygbif"
      ]
    },
    {
      "cell_type": "code",
      "execution_count": 5,
      "id": "124cd766",
      "metadata": {},
      "outputs": [
        {
          "name": "stderr",
          "output_type": "stream",
          "text": [
            "c:\\Users\\stem2\\miniconda3\\envs\\earth-analytics-python\\Lib\\site-packages\\dask\\dataframe\\__init__.py:42: FutureWarning: \n",
            "Dask dataframe query planning is disabled because dask-expr is not installed.\n",
            "\n",
            "You can install it with `pip install dask[dataframe]` or `conda install dask`.\n",
            "This will raise in a future version.\n",
            "\n",
            "  warnings.warn(msg, FutureWarning)\n"
          ]
        },
        {
          "data": {
            "text/html": [
              "<script type=\"esms-options\">{\"shimMode\": true}</script><style>*[data-root-id],\n",
              "*[data-root-id] > * {\n",
              "  box-sizing: border-box;\n",
              "  font-family: var(--jp-ui-font-family);\n",
              "  font-size: var(--jp-ui-font-size1);\n",
              "  color: var(--vscode-editor-foreground, var(--jp-ui-font-color1));\n",
              "}\n",
              "\n",
              "/* Override VSCode background color */\n",
              ".cell-output-ipywidget-background:has(\n",
              "    > .cell-output-ipywidget-background > .lm-Widget > *[data-root-id]\n",
              "  ),\n",
              ".cell-output-ipywidget-background:has(> .lm-Widget > *[data-root-id]) {\n",
              "  background-color: transparent !important;\n",
              "}\n",
              "</style>"
            ]
          },
          "metadata": {},
          "output_type": "display_data"
        },
        {
          "data": {
            "application/javascript": "(function(root) {\n  function now() {\n    return new Date();\n  }\n\n  const force = true;\n  const py_version = '3.5.2'.replace('rc', '-rc.').replace('.dev', '-dev.');\n  const reloading = false;\n  const Bokeh = root.Bokeh;\n\n  // Set a timeout for this load but only if we are not already initializing\n  if (typeof (root._bokeh_timeout) === \"undefined\" || (force || !root._bokeh_is_initializing)) {\n    root._bokeh_timeout = Date.now() + 5000;\n    root._bokeh_failed_load = false;\n  }\n\n  function run_callbacks() {\n    try {\n      root._bokeh_onload_callbacks.forEach(function(callback) {\n        if (callback != null)\n          callback();\n      });\n    } finally {\n      delete root._bokeh_onload_callbacks;\n    }\n    console.debug(\"Bokeh: all callbacks have finished\");\n  }\n\n  function load_libs(css_urls, js_urls, js_modules, js_exports, callback) {\n    if (css_urls == null) css_urls = [];\n    if (js_urls == null) js_urls = [];\n    if (js_modules == null) js_modules = [];\n    if (js_exports == null) js_exports = {};\n\n    root._bokeh_onload_callbacks.push(callback);\n\n    if (root._bokeh_is_loading > 0) {\n      // Don't load bokeh if it is still initializing\n      console.debug(\"Bokeh: BokehJS is being loaded, scheduling callback at\", now());\n      return null;\n    } else if (js_urls.length === 0 && js_modules.length === 0 && Object.keys(js_exports).length === 0) {\n      // There is nothing to load\n      run_callbacks();\n      return null;\n    }\n\n    function on_load() {\n      root._bokeh_is_loading--;\n      if (root._bokeh_is_loading === 0) {\n        console.debug(\"Bokeh: all BokehJS libraries/stylesheets loaded\");\n        run_callbacks()\n      }\n    }\n    window._bokeh_on_load = on_load\n\n    function on_error(e) {\n      const src_el = e.srcElement\n      console.error(\"failed to load \" + (src_el.href || src_el.src));\n    }\n\n    const skip = [];\n    if (window.requirejs) {\n      window.requirejs.config({'packages': {}, 'paths': {}, 'shim': {}});\n      root._bokeh_is_loading = css_urls.length + 0;\n    } else {\n      root._bokeh_is_loading = css_urls.length + js_urls.length + js_modules.length + Object.keys(js_exports).length;\n    }\n\n    const existing_stylesheets = []\n    const links = document.getElementsByTagName('link')\n    for (let i = 0; i < links.length; i++) {\n      const link = links[i]\n      if (link.href != null) {\n        existing_stylesheets.push(link.href)\n      }\n    }\n    for (let i = 0; i < css_urls.length; i++) {\n      const url = css_urls[i];\n      const escaped = encodeURI(url)\n      if (existing_stylesheets.indexOf(escaped) !== -1) {\n        on_load()\n        continue;\n      }\n      const element = document.createElement(\"link\");\n      element.onload = on_load;\n      element.onerror = on_error;\n      element.rel = \"stylesheet\";\n      element.type = \"text/css\";\n      element.href = url;\n      console.debug(\"Bokeh: injecting link tag for BokehJS stylesheet: \", url);\n      document.body.appendChild(element);\n    }    var existing_scripts = []\n    const scripts = document.getElementsByTagName('script')\n    for (let i = 0; i < scripts.length; i++) {\n      var script = scripts[i]\n      if (script.src != null) {\n        existing_scripts.push(script.src)\n      }\n    }\n    for (let i = 0; i < js_urls.length; i++) {\n      const url = js_urls[i];\n      const escaped = encodeURI(url)\n      if (skip.indexOf(escaped) !== -1 || existing_scripts.indexOf(escaped) !== -1) {\n        if (!window.requirejs) {\n          on_load();\n        }\n        continue;\n      }\n      const element = document.createElement('script');\n      element.onload = on_load;\n      element.onerror = on_error;\n      element.async = false;\n      element.src = url;\n      console.debug(\"Bokeh: injecting script tag for BokehJS library: \", url);\n      document.head.appendChild(element);\n    }\n    for (let i = 0; i < js_modules.length; i++) {\n      const url = js_modules[i];\n      const escaped = encodeURI(url)\n      if (skip.indexOf(escaped) !== -1 || existing_scripts.indexOf(escaped) !== -1) {\n        if (!window.requirejs) {\n          on_load();\n        }\n        continue;\n      }\n      var element = document.createElement('script');\n      element.onload = on_load;\n      element.onerror = on_error;\n      element.async = false;\n      element.src = url;\n      element.type = \"module\";\n      console.debug(\"Bokeh: injecting script tag for BokehJS library: \", url);\n      document.head.appendChild(element);\n    }\n    for (const name in js_exports) {\n      const url = js_exports[name];\n      const escaped = encodeURI(url)\n      if (skip.indexOf(escaped) >= 0 || root[name] != null) {\n        if (!window.requirejs) {\n          on_load();\n        }\n        continue;\n      }\n      var element = document.createElement('script');\n      element.onerror = on_error;\n      element.async = false;\n      element.type = \"module\";\n      console.debug(\"Bokeh: injecting script tag for BokehJS library: \", url);\n      element.textContent = `\n      import ${name} from \"${url}\"\n      window.${name} = ${name}\n      window._bokeh_on_load()\n      `\n      document.head.appendChild(element);\n    }\n    if (!js_urls.length && !js_modules.length) {\n      on_load()\n    }\n  };\n\n  function inject_raw_css(css) {\n    const element = document.createElement(\"style\");\n    element.appendChild(document.createTextNode(css));\n    document.body.appendChild(element);\n  }\n\n  const js_urls = [\"https://cdn.holoviz.org/panel/1.5.2/dist/bundled/reactiveesm/es-module-shims@^1.10.0/dist/es-module-shims.min.js\", \"https://cdn.bokeh.org/bokeh/release/bokeh-3.5.2.min.js\", \"https://cdn.bokeh.org/bokeh/release/bokeh-gl-3.5.2.min.js\", \"https://cdn.bokeh.org/bokeh/release/bokeh-widgets-3.5.2.min.js\", \"https://cdn.bokeh.org/bokeh/release/bokeh-tables-3.5.2.min.js\", \"https://cdn.holoviz.org/panel/1.5.2/dist/panel.min.js\"];\n  const js_modules = [];\n  const js_exports = {};\n  const css_urls = [];\n  const inline_js = [    function(Bokeh) {\n      Bokeh.set_log_level(\"info\");\n    },\nfunction(Bokeh) {} // ensure no trailing comma for IE\n  ];\n\n  function run_inline_js() {\n    if ((root.Bokeh !== undefined) || (force === true)) {\n      for (let i = 0; i < inline_js.length; i++) {\n        try {\n          inline_js[i].call(root, root.Bokeh);\n        } catch(e) {\n          if (!reloading) {\n            throw e;\n          }\n        }\n      }\n      // Cache old bokeh versions\n      if (Bokeh != undefined && !reloading) {\n        var NewBokeh = root.Bokeh;\n        if (Bokeh.versions === undefined) {\n          Bokeh.versions = new Map();\n        }\n        if (NewBokeh.version !== Bokeh.version) {\n          Bokeh.versions.set(NewBokeh.version, NewBokeh)\n        }\n        root.Bokeh = Bokeh;\n      }\n    } else if (Date.now() < root._bokeh_timeout) {\n      setTimeout(run_inline_js, 100);\n    } else if (!root._bokeh_failed_load) {\n      console.log(\"Bokeh: BokehJS failed to load within specified timeout.\");\n      root._bokeh_failed_load = true;\n    }\n    root._bokeh_is_initializing = false\n  }\n\n  function load_or_wait() {\n    // Implement a backoff loop that tries to ensure we do not load multiple\n    // versions of Bokeh and its dependencies at the same time.\n    // In recent versions we use the root._bokeh_is_initializing flag\n    // to determine whether there is an ongoing attempt to initialize\n    // bokeh, however for backward compatibility we also try to ensure\n    // that we do not start loading a newer (Panel>=1.0 and Bokeh>3) version\n    // before older versions are fully initialized.\n    if (root._bokeh_is_initializing && Date.now() > root._bokeh_timeout) {\n      // If the timeout and bokeh was not successfully loaded we reset\n      // everything and try loading again\n      root._bokeh_timeout = Date.now() + 5000;\n      root._bokeh_is_initializing = false;\n      root._bokeh_onload_callbacks = undefined;\n      root._bokeh_is_loading = 0\n      console.log(\"Bokeh: BokehJS was loaded multiple times but one version failed to initialize.\");\n      load_or_wait();\n    } else if (root._bokeh_is_initializing || (typeof root._bokeh_is_initializing === \"undefined\" && root._bokeh_onload_callbacks !== undefined)) {\n      setTimeout(load_or_wait, 100);\n    } else {\n      root._bokeh_is_initializing = true\n      root._bokeh_onload_callbacks = []\n      const bokeh_loaded = root.Bokeh != null && (root.Bokeh.version === py_version || (root.Bokeh.versions !== undefined && root.Bokeh.versions.has(py_version)));\n      if (!reloading && !bokeh_loaded) {\n        if (root.Bokeh) {\n          root.Bokeh = undefined;\n        }\n        console.debug(\"Bokeh: BokehJS not loaded, scheduling load and callback at\", now());\n      }\n      load_libs(css_urls, js_urls, js_modules, js_exports, function() {\n        console.debug(\"Bokeh: BokehJS plotting callback run at\", now());\n        run_inline_js();\n      });\n    }\n  }\n  // Give older versions of the autoload script a head-start to ensure\n  // they initialize before we start loading newer version.\n  setTimeout(load_or_wait, 100)\n}(window));",
            "application/vnd.holoviews_load.v0+json": ""
          },
          "metadata": {},
          "output_type": "display_data"
        },
        {
          "data": {
            "application/javascript": "\nif ((window.PyViz === undefined) || (window.PyViz instanceof HTMLElement)) {\n  window.PyViz = {comms: {}, comm_status:{}, kernels:{}, receivers: {}, plot_index: []}\n}\n\n\n    function JupyterCommManager() {\n    }\n\n    JupyterCommManager.prototype.register_target = function(plot_id, comm_id, msg_handler) {\n      if (window.comm_manager || ((window.Jupyter !== undefined) && (Jupyter.notebook.kernel != null))) {\n        var comm_manager = window.comm_manager || Jupyter.notebook.kernel.comm_manager;\n        comm_manager.register_target(comm_id, function(comm) {\n          comm.on_msg(msg_handler);\n        });\n      } else if ((plot_id in window.PyViz.kernels) && (window.PyViz.kernels[plot_id])) {\n        window.PyViz.kernels[plot_id].registerCommTarget(comm_id, function(comm) {\n          comm.onMsg = msg_handler;\n        });\n      } else if (typeof google != 'undefined' && google.colab.kernel != null) {\n        google.colab.kernel.comms.registerTarget(comm_id, (comm) => {\n          var messages = comm.messages[Symbol.asyncIterator]();\n          function processIteratorResult(result) {\n            var message = result.value;\n            console.log(message)\n            var content = {data: message.data, comm_id};\n            var buffers = []\n            for (var buffer of message.buffers || []) {\n              buffers.push(new DataView(buffer))\n            }\n            var metadata = message.metadata || {};\n            var msg = {content, buffers, metadata}\n            msg_handler(msg);\n            return messages.next().then(processIteratorResult);\n          }\n          return messages.next().then(processIteratorResult);\n        })\n      }\n    }\n\n    JupyterCommManager.prototype.get_client_comm = function(plot_id, comm_id, msg_handler) {\n      if (comm_id in window.PyViz.comms) {\n        return window.PyViz.comms[comm_id];\n      } else if (window.comm_manager || ((window.Jupyter !== undefined) && (Jupyter.notebook.kernel != null))) {\n        var comm_manager = window.comm_manager || Jupyter.notebook.kernel.comm_manager;\n        var comm = comm_manager.new_comm(comm_id, {}, {}, {}, comm_id);\n        if (msg_handler) {\n          comm.on_msg(msg_handler);\n        }\n      } else if ((plot_id in window.PyViz.kernels) && (window.PyViz.kernels[plot_id])) {\n        var comm = window.PyViz.kernels[plot_id].connectToComm(comm_id);\n        comm.open();\n        if (msg_handler) {\n          comm.onMsg = msg_handler;\n        }\n      } else if (typeof google != 'undefined' && google.colab.kernel != null) {\n        var comm_promise = google.colab.kernel.comms.open(comm_id)\n        comm_promise.then((comm) => {\n          window.PyViz.comms[comm_id] = comm;\n          if (msg_handler) {\n            var messages = comm.messages[Symbol.asyncIterator]();\n            function processIteratorResult(result) {\n              var message = result.value;\n              var content = {data: message.data};\n              var metadata = message.metadata || {comm_id};\n              var msg = {content, metadata}\n              msg_handler(msg);\n              return messages.next().then(processIteratorResult);\n            }\n            return messages.next().then(processIteratorResult);\n          }\n        }) \n        var sendClosure = (data, metadata, buffers, disposeOnDone) => {\n          return comm_promise.then((comm) => {\n            comm.send(data, metadata, buffers, disposeOnDone);\n          });\n        };\n        var comm = {\n          send: sendClosure\n        };\n      }\n      window.PyViz.comms[comm_id] = comm;\n      return comm;\n    }\n    window.PyViz.comm_manager = new JupyterCommManager();\n    \n\n\nvar JS_MIME_TYPE = 'application/javascript';\nvar HTML_MIME_TYPE = 'text/html';\nvar EXEC_MIME_TYPE = 'application/vnd.holoviews_exec.v0+json';\nvar CLASS_NAME = 'output';\n\n/**\n * Render data to the DOM node\n */\nfunction render(props, node) {\n  var div = document.createElement(\"div\");\n  var script = document.createElement(\"script\");\n  node.appendChild(div);\n  node.appendChild(script);\n}\n\n/**\n * Handle when a new output is added\n */\nfunction handle_add_output(event, handle) {\n  var output_area = handle.output_area;\n  var output = handle.output;\n  if ((output.data == undefined) || (!output.data.hasOwnProperty(EXEC_MIME_TYPE))) {\n    return\n  }\n  var id = output.metadata[EXEC_MIME_TYPE][\"id\"];\n  var toinsert = output_area.element.find(\".\" + CLASS_NAME.split(' ')[0]);\n  if (id !== undefined) {\n    var nchildren = toinsert.length;\n    var html_node = toinsert[nchildren-1].children[0];\n    html_node.innerHTML = output.data[HTML_MIME_TYPE];\n    var scripts = [];\n    var nodelist = html_node.querySelectorAll(\"script\");\n    for (var i in nodelist) {\n      if (nodelist.hasOwnProperty(i)) {\n        scripts.push(nodelist[i])\n      }\n    }\n\n    scripts.forEach( function (oldScript) {\n      var newScript = document.createElement(\"script\");\n      var attrs = [];\n      var nodemap = oldScript.attributes;\n      for (var j in nodemap) {\n        if (nodemap.hasOwnProperty(j)) {\n          attrs.push(nodemap[j])\n        }\n      }\n      attrs.forEach(function(attr) { newScript.setAttribute(attr.name, attr.value) });\n      newScript.appendChild(document.createTextNode(oldScript.innerHTML));\n      oldScript.parentNode.replaceChild(newScript, oldScript);\n    });\n    if (JS_MIME_TYPE in output.data) {\n      toinsert[nchildren-1].children[1].textContent = output.data[JS_MIME_TYPE];\n    }\n    output_area._hv_plot_id = id;\n    if ((window.Bokeh !== undefined) && (id in Bokeh.index)) {\n      window.PyViz.plot_index[id] = Bokeh.index[id];\n    } else {\n      window.PyViz.plot_index[id] = null;\n    }\n  } else if (output.metadata[EXEC_MIME_TYPE][\"server_id\"] !== undefined) {\n    var bk_div = document.createElement(\"div\");\n    bk_div.innerHTML = output.data[HTML_MIME_TYPE];\n    var script_attrs = bk_div.children[0].attributes;\n    for (var i = 0; i < script_attrs.length; i++) {\n      toinsert[toinsert.length - 1].childNodes[1].setAttribute(script_attrs[i].name, script_attrs[i].value);\n    }\n    // store reference to server id on output_area\n    output_area._bokeh_server_id = output.metadata[EXEC_MIME_TYPE][\"server_id\"];\n  }\n}\n\n/**\n * Handle when an output is cleared or removed\n */\nfunction handle_clear_output(event, handle) {\n  var id = handle.cell.output_area._hv_plot_id;\n  var server_id = handle.cell.output_area._bokeh_server_id;\n  if (((id === undefined) || !(id in PyViz.plot_index)) && (server_id !== undefined)) { return; }\n  var comm = window.PyViz.comm_manager.get_client_comm(\"hv-extension-comm\", \"hv-extension-comm\", function () {});\n  if (server_id !== null) {\n    comm.send({event_type: 'server_delete', 'id': server_id});\n    return;\n  } else if (comm !== null) {\n    comm.send({event_type: 'delete', 'id': id});\n  }\n  delete PyViz.plot_index[id];\n  if ((window.Bokeh !== undefined) & (id in window.Bokeh.index)) {\n    var doc = window.Bokeh.index[id].model.document\n    doc.clear();\n    const i = window.Bokeh.documents.indexOf(doc);\n    if (i > -1) {\n      window.Bokeh.documents.splice(i, 1);\n    }\n  }\n}\n\n/**\n * Handle kernel restart event\n */\nfunction handle_kernel_cleanup(event, handle) {\n  delete PyViz.comms[\"hv-extension-comm\"];\n  window.PyViz.plot_index = {}\n}\n\n/**\n * Handle update_display_data messages\n */\nfunction handle_update_output(event, handle) {\n  handle_clear_output(event, {cell: {output_area: handle.output_area}})\n  handle_add_output(event, handle)\n}\n\nfunction register_renderer(events, OutputArea) {\n  function append_mime(data, metadata, element) {\n    // create a DOM node to render to\n    var toinsert = this.create_output_subarea(\n    metadata,\n    CLASS_NAME,\n    EXEC_MIME_TYPE\n    );\n    this.keyboard_manager.register_events(toinsert);\n    // Render to node\n    var props = {data: data, metadata: metadata[EXEC_MIME_TYPE]};\n    render(props, toinsert[0]);\n    element.append(toinsert);\n    return toinsert\n  }\n\n  events.on('output_added.OutputArea', handle_add_output);\n  events.on('output_updated.OutputArea', handle_update_output);\n  events.on('clear_output.CodeCell', handle_clear_output);\n  events.on('delete.Cell', handle_clear_output);\n  events.on('kernel_ready.Kernel', handle_kernel_cleanup);\n\n  OutputArea.prototype.register_mime_type(EXEC_MIME_TYPE, append_mime, {\n    safe: true,\n    index: 0\n  });\n}\n\nif (window.Jupyter !== undefined) {\n  try {\n    var events = require('base/js/events');\n    var OutputArea = require('notebook/js/outputarea').OutputArea;\n    if (OutputArea.prototype.mime_types().indexOf(EXEC_MIME_TYPE) == -1) {\n      register_renderer(events, OutputArea);\n    }\n  } catch(err) {\n  }\n}\n",
            "application/vnd.holoviews_load.v0+json": ""
          },
          "metadata": {},
          "output_type": "display_data"
        },
        {
          "data": {
            "application/vnd.holoviews_exec.v0+json": "",
            "text/html": [
              "<div id='p1002'>\n",
              "  <div id=\"f7fe0ea5-f3e4-4ee4-8c6a-85ffc96e8803\" data-root-id=\"p1002\" style=\"display: contents;\"></div>\n",
              "</div>\n",
              "<script type=\"application/javascript\">(function(root) {\n",
              "  var docs_json = {\"ea97351f-9fd5-40be-a236-20ff850da899\":{\"version\":\"3.5.2\",\"title\":\"Bokeh Application\",\"roots\":[{\"type\":\"object\",\"name\":\"panel.models.browser.BrowserInfo\",\"id\":\"p1002\"},{\"type\":\"object\",\"name\":\"panel.models.comm_manager.CommManager\",\"id\":\"p1003\",\"attributes\":{\"plot_id\":\"p1002\",\"comm_id\":\"7eb0011c6ff5417f84d97b828261e9d1\",\"client_comm_id\":\"513792daf9eb4f2799f557cea6a2f234\"}}],\"defs\":[{\"type\":\"model\",\"name\":\"ReactiveHTML1\"},{\"type\":\"model\",\"name\":\"FlexBox1\",\"properties\":[{\"name\":\"align_content\",\"kind\":\"Any\",\"default\":\"flex-start\"},{\"name\":\"align_items\",\"kind\":\"Any\",\"default\":\"flex-start\"},{\"name\":\"flex_direction\",\"kind\":\"Any\",\"default\":\"row\"},{\"name\":\"flex_wrap\",\"kind\":\"Any\",\"default\":\"wrap\"},{\"name\":\"gap\",\"kind\":\"Any\",\"default\":\"\"},{\"name\":\"justify_content\",\"kind\":\"Any\",\"default\":\"flex-start\"}]},{\"type\":\"model\",\"name\":\"FloatPanel1\",\"properties\":[{\"name\":\"config\",\"kind\":\"Any\",\"default\":{\"type\":\"map\"}},{\"name\":\"contained\",\"kind\":\"Any\",\"default\":true},{\"name\":\"position\",\"kind\":\"Any\",\"default\":\"right-top\"},{\"name\":\"offsetx\",\"kind\":\"Any\",\"default\":null},{\"name\":\"offsety\",\"kind\":\"Any\",\"default\":null},{\"name\":\"theme\",\"kind\":\"Any\",\"default\":\"primary\"},{\"name\":\"status\",\"kind\":\"Any\",\"default\":\"normalized\"}]},{\"type\":\"model\",\"name\":\"GridStack1\",\"properties\":[{\"name\":\"mode\",\"kind\":\"Any\",\"default\":\"warn\"},{\"name\":\"ncols\",\"kind\":\"Any\",\"default\":null},{\"name\":\"nrows\",\"kind\":\"Any\",\"default\":null},{\"name\":\"allow_resize\",\"kind\":\"Any\",\"default\":true},{\"name\":\"allow_drag\",\"kind\":\"Any\",\"default\":true},{\"name\":\"state\",\"kind\":\"Any\",\"default\":[]}]},{\"type\":\"model\",\"name\":\"drag1\",\"properties\":[{\"name\":\"slider_width\",\"kind\":\"Any\",\"default\":5},{\"name\":\"slider_color\",\"kind\":\"Any\",\"default\":\"black\"},{\"name\":\"value\",\"kind\":\"Any\",\"default\":50}]},{\"type\":\"model\",\"name\":\"click1\",\"properties\":[{\"name\":\"terminal_output\",\"kind\":\"Any\",\"default\":\"\"},{\"name\":\"debug_name\",\"kind\":\"Any\",\"default\":\"\"},{\"name\":\"clears\",\"kind\":\"Any\",\"default\":0}]},{\"type\":\"model\",\"name\":\"FastWrapper1\",\"properties\":[{\"name\":\"object\",\"kind\":\"Any\",\"default\":null},{\"name\":\"style\",\"kind\":\"Any\",\"default\":null}]},{\"type\":\"model\",\"name\":\"NotificationAreaBase1\",\"properties\":[{\"name\":\"js_events\",\"kind\":\"Any\",\"default\":{\"type\":\"map\"}},{\"name\":\"position\",\"kind\":\"Any\",\"default\":\"bottom-right\"},{\"name\":\"_clear\",\"kind\":\"Any\",\"default\":0}]},{\"type\":\"model\",\"name\":\"NotificationArea1\",\"properties\":[{\"name\":\"js_events\",\"kind\":\"Any\",\"default\":{\"type\":\"map\"}},{\"name\":\"notifications\",\"kind\":\"Any\",\"default\":[]},{\"name\":\"position\",\"kind\":\"Any\",\"default\":\"bottom-right\"},{\"name\":\"_clear\",\"kind\":\"Any\",\"default\":0},{\"name\":\"types\",\"kind\":\"Any\",\"default\":[{\"type\":\"map\",\"entries\":[[\"type\",\"warning\"],[\"background\",\"#ffc107\"],[\"icon\",{\"type\":\"map\",\"entries\":[[\"className\",\"fas fa-exclamation-triangle\"],[\"tagName\",\"i\"],[\"color\",\"white\"]]}]]},{\"type\":\"map\",\"entries\":[[\"type\",\"info\"],[\"background\",\"#007bff\"],[\"icon\",{\"type\":\"map\",\"entries\":[[\"className\",\"fas fa-info-circle\"],[\"tagName\",\"i\"],[\"color\",\"white\"]]}]]}]}]},{\"type\":\"model\",\"name\":\"Notification\",\"properties\":[{\"name\":\"background\",\"kind\":\"Any\",\"default\":null},{\"name\":\"duration\",\"kind\":\"Any\",\"default\":3000},{\"name\":\"icon\",\"kind\":\"Any\",\"default\":null},{\"name\":\"message\",\"kind\":\"Any\",\"default\":\"\"},{\"name\":\"notification_type\",\"kind\":\"Any\",\"default\":null},{\"name\":\"_destroyed\",\"kind\":\"Any\",\"default\":false}]},{\"type\":\"model\",\"name\":\"TemplateActions1\",\"properties\":[{\"name\":\"open_modal\",\"kind\":\"Any\",\"default\":0},{\"name\":\"close_modal\",\"kind\":\"Any\",\"default\":0}]},{\"type\":\"model\",\"name\":\"BootstrapTemplateActions1\",\"properties\":[{\"name\":\"open_modal\",\"kind\":\"Any\",\"default\":0},{\"name\":\"close_modal\",\"kind\":\"Any\",\"default\":0}]},{\"type\":\"model\",\"name\":\"TemplateEditor1\",\"properties\":[{\"name\":\"layout\",\"kind\":\"Any\",\"default\":[]}]},{\"type\":\"model\",\"name\":\"MaterialTemplateActions1\",\"properties\":[{\"name\":\"open_modal\",\"kind\":\"Any\",\"default\":0},{\"name\":\"close_modal\",\"kind\":\"Any\",\"default\":0}]},{\"type\":\"model\",\"name\":\"ReactiveESM1\"},{\"type\":\"model\",\"name\":\"JSComponent1\"},{\"type\":\"model\",\"name\":\"ReactComponent1\"},{\"type\":\"model\",\"name\":\"AnyWidgetComponent1\"},{\"type\":\"model\",\"name\":\"request_value1\",\"properties\":[{\"name\":\"fill\",\"kind\":\"Any\",\"default\":\"none\"},{\"name\":\"_synced\",\"kind\":\"Any\",\"default\":null},{\"name\":\"_request_sync\",\"kind\":\"Any\",\"default\":0}]}]}};\n",
              "  var render_items = [{\"docid\":\"ea97351f-9fd5-40be-a236-20ff850da899\",\"roots\":{\"p1002\":\"f7fe0ea5-f3e4-4ee4-8c6a-85ffc96e8803\"},\"root_ids\":[\"p1002\"]}];\n",
              "  var docs = Object.values(docs_json)\n",
              "  if (!docs) {\n",
              "    return\n",
              "  }\n",
              "  const py_version = docs[0].version.replace('rc', '-rc.').replace('.dev', '-dev.')\n",
              "  async function embed_document(root) {\n",
              "    var Bokeh = get_bokeh(root)\n",
              "    await Bokeh.embed.embed_items_notebook(docs_json, render_items);\n",
              "    for (const render_item of render_items) {\n",
              "      for (const root_id of render_item.root_ids) {\n",
              "\tconst id_el = document.getElementById(root_id)\n",
              "\tif (id_el.children.length && id_el.children[0].hasAttribute('data-root-id')) {\n",
              "\t  const root_el = id_el.children[0]\n",
              "\t  root_el.id = root_el.id + '-rendered'\n",
              "\t  for (const child of root_el.children) {\n",
              "            // Ensure JupyterLab does not capture keyboard shortcuts\n",
              "            // see: https://jupyterlab.readthedocs.io/en/4.1.x/extension/notebook.html#keyboard-interaction-model\n",
              "\t    child.setAttribute('data-lm-suppress-shortcuts', 'true')\n",
              "\t  }\n",
              "\t}\n",
              "      }\n",
              "    }\n",
              "  }\n",
              "  function get_bokeh(root) {\n",
              "    if (root.Bokeh === undefined) {\n",
              "      return null\n",
              "    } else if (root.Bokeh.version !== py_version) {\n",
              "      if (root.Bokeh.versions === undefined || !root.Bokeh.versions.has(py_version)) {\n",
              "\treturn null\n",
              "      }\n",
              "      return root.Bokeh.versions.get(py_version);\n",
              "    } else if (root.Bokeh.version === py_version) {\n",
              "      return root.Bokeh\n",
              "    }\n",
              "    return null\n",
              "  }\n",
              "  function is_loaded(root) {\n",
              "    var Bokeh = get_bokeh(root)\n",
              "    return (Bokeh != null && Bokeh.Panel !== undefined)\n",
              "  }\n",
              "  if (is_loaded(root)) {\n",
              "    embed_document(root);\n",
              "  } else {\n",
              "    var attempts = 0;\n",
              "    var timer = setInterval(function(root) {\n",
              "      if (is_loaded(root)) {\n",
              "        clearInterval(timer);\n",
              "        embed_document(root);\n",
              "      } else if (document.readyState == \"complete\") {\n",
              "        attempts++;\n",
              "        if (attempts > 200) {\n",
              "          clearInterval(timer);\n",
              "\t  var Bokeh = get_bokeh(root)\n",
              "\t  if (Bokeh == null || Bokeh.Panel == null) {\n",
              "            console.warn(\"Panel: ERROR: Unable to run Panel code because Bokeh or Panel library is missing\");\n",
              "\t  } else {\n",
              "\t    console.warn(\"Panel: WARNING: Attempting to render but not all required libraries could be resolved.\")\n",
              "\t    embed_document(root)\n",
              "\t  }\n",
              "        }\n",
              "      }\n",
              "    }, 25, root)\n",
              "  }\n",
              "})(window);</script>"
            ]
          },
          "metadata": {
            "application/vnd.holoviews_exec.v0+json": {
              "id": "p1002"
            }
          },
          "output_type": "display_data"
        },
        {
          "data": {
            "text/html": [
              "<script type=\"esms-options\">{\"shimMode\": true}</script><style>*[data-root-id],\n",
              "*[data-root-id] > * {\n",
              "  box-sizing: border-box;\n",
              "  font-family: var(--jp-ui-font-family);\n",
              "  font-size: var(--jp-ui-font-size1);\n",
              "  color: var(--vscode-editor-foreground, var(--jp-ui-font-color1));\n",
              "}\n",
              "\n",
              "/* Override VSCode background color */\n",
              ".cell-output-ipywidget-background:has(\n",
              "    > .cell-output-ipywidget-background > .lm-Widget > *[data-root-id]\n",
              "  ),\n",
              ".cell-output-ipywidget-background:has(> .lm-Widget > *[data-root-id]) {\n",
              "  background-color: transparent !important;\n",
              "}\n",
              "</style>"
            ]
          },
          "metadata": {},
          "output_type": "display_data"
        },
        {
          "data": {
            "application/javascript": "(function(root) {\n  function now() {\n    return new Date();\n  }\n\n  const force = false;\n  const py_version = '3.5.2'.replace('rc', '-rc.').replace('.dev', '-dev.');\n  const reloading = true;\n  const Bokeh = root.Bokeh;\n\n  // Set a timeout for this load but only if we are not already initializing\n  if (typeof (root._bokeh_timeout) === \"undefined\" || (force || !root._bokeh_is_initializing)) {\n    root._bokeh_timeout = Date.now() + 5000;\n    root._bokeh_failed_load = false;\n  }\n\n  function run_callbacks() {\n    try {\n      root._bokeh_onload_callbacks.forEach(function(callback) {\n        if (callback != null)\n          callback();\n      });\n    } finally {\n      delete root._bokeh_onload_callbacks;\n    }\n    console.debug(\"Bokeh: all callbacks have finished\");\n  }\n\n  function load_libs(css_urls, js_urls, js_modules, js_exports, callback) {\n    if (css_urls == null) css_urls = [];\n    if (js_urls == null) js_urls = [];\n    if (js_modules == null) js_modules = [];\n    if (js_exports == null) js_exports = {};\n\n    root._bokeh_onload_callbacks.push(callback);\n\n    if (root._bokeh_is_loading > 0) {\n      // Don't load bokeh if it is still initializing\n      console.debug(\"Bokeh: BokehJS is being loaded, scheduling callback at\", now());\n      return null;\n    } else if (js_urls.length === 0 && js_modules.length === 0 && Object.keys(js_exports).length === 0) {\n      // There is nothing to load\n      run_callbacks();\n      return null;\n    }\n\n    function on_load() {\n      root._bokeh_is_loading--;\n      if (root._bokeh_is_loading === 0) {\n        console.debug(\"Bokeh: all BokehJS libraries/stylesheets loaded\");\n        run_callbacks()\n      }\n    }\n    window._bokeh_on_load = on_load\n\n    function on_error(e) {\n      const src_el = e.srcElement\n      console.error(\"failed to load \" + (src_el.href || src_el.src));\n    }\n\n    const skip = [];\n    if (window.requirejs) {\n      window.requirejs.config({'packages': {}, 'paths': {}, 'shim': {}});\n      root._bokeh_is_loading = css_urls.length + 0;\n    } else {\n      root._bokeh_is_loading = css_urls.length + js_urls.length + js_modules.length + Object.keys(js_exports).length;\n    }\n\n    const existing_stylesheets = []\n    const links = document.getElementsByTagName('link')\n    for (let i = 0; i < links.length; i++) {\n      const link = links[i]\n      if (link.href != null) {\n        existing_stylesheets.push(link.href)\n      }\n    }\n    for (let i = 0; i < css_urls.length; i++) {\n      const url = css_urls[i];\n      const escaped = encodeURI(url)\n      if (existing_stylesheets.indexOf(escaped) !== -1) {\n        on_load()\n        continue;\n      }\n      const element = document.createElement(\"link\");\n      element.onload = on_load;\n      element.onerror = on_error;\n      element.rel = \"stylesheet\";\n      element.type = \"text/css\";\n      element.href = url;\n      console.debug(\"Bokeh: injecting link tag for BokehJS stylesheet: \", url);\n      document.body.appendChild(element);\n    }    var existing_scripts = []\n    const scripts = document.getElementsByTagName('script')\n    for (let i = 0; i < scripts.length; i++) {\n      var script = scripts[i]\n      if (script.src != null) {\n        existing_scripts.push(script.src)\n      }\n    }\n    for (let i = 0; i < js_urls.length; i++) {\n      const url = js_urls[i];\n      const escaped = encodeURI(url)\n      if (skip.indexOf(escaped) !== -1 || existing_scripts.indexOf(escaped) !== -1) {\n        if (!window.requirejs) {\n          on_load();\n        }\n        continue;\n      }\n      const element = document.createElement('script');\n      element.onload = on_load;\n      element.onerror = on_error;\n      element.async = false;\n      element.src = url;\n      console.debug(\"Bokeh: injecting script tag for BokehJS library: \", url);\n      document.head.appendChild(element);\n    }\n    for (let i = 0; i < js_modules.length; i++) {\n      const url = js_modules[i];\n      const escaped = encodeURI(url)\n      if (skip.indexOf(escaped) !== -1 || existing_scripts.indexOf(escaped) !== -1) {\n        if (!window.requirejs) {\n          on_load();\n        }\n        continue;\n      }\n      var element = document.createElement('script');\n      element.onload = on_load;\n      element.onerror = on_error;\n      element.async = false;\n      element.src = url;\n      element.type = \"module\";\n      console.debug(\"Bokeh: injecting script tag for BokehJS library: \", url);\n      document.head.appendChild(element);\n    }\n    for (const name in js_exports) {\n      const url = js_exports[name];\n      const escaped = encodeURI(url)\n      if (skip.indexOf(escaped) >= 0 || root[name] != null) {\n        if (!window.requirejs) {\n          on_load();\n        }\n        continue;\n      }\n      var element = document.createElement('script');\n      element.onerror = on_error;\n      element.async = false;\n      element.type = \"module\";\n      console.debug(\"Bokeh: injecting script tag for BokehJS library: \", url);\n      element.textContent = `\n      import ${name} from \"${url}\"\n      window.${name} = ${name}\n      window._bokeh_on_load()\n      `\n      document.head.appendChild(element);\n    }\n    if (!js_urls.length && !js_modules.length) {\n      on_load()\n    }\n  };\n\n  function inject_raw_css(css) {\n    const element = document.createElement(\"style\");\n    element.appendChild(document.createTextNode(css));\n    document.body.appendChild(element);\n  }\n\n  const js_urls = [\"https://cdn.holoviz.org/panel/1.5.2/dist/bundled/reactiveesm/es-module-shims@^1.10.0/dist/es-module-shims.min.js\"];\n  const js_modules = [];\n  const js_exports = {};\n  const css_urls = [];\n  const inline_js = [    function(Bokeh) {\n      Bokeh.set_log_level(\"info\");\n    },\nfunction(Bokeh) {} // ensure no trailing comma for IE\n  ];\n\n  function run_inline_js() {\n    if ((root.Bokeh !== undefined) || (force === true)) {\n      for (let i = 0; i < inline_js.length; i++) {\n        try {\n          inline_js[i].call(root, root.Bokeh);\n        } catch(e) {\n          if (!reloading) {\n            throw e;\n          }\n        }\n      }\n      // Cache old bokeh versions\n      if (Bokeh != undefined && !reloading) {\n        var NewBokeh = root.Bokeh;\n        if (Bokeh.versions === undefined) {\n          Bokeh.versions = new Map();\n        }\n        if (NewBokeh.version !== Bokeh.version) {\n          Bokeh.versions.set(NewBokeh.version, NewBokeh)\n        }\n        root.Bokeh = Bokeh;\n      }\n    } else if (Date.now() < root._bokeh_timeout) {\n      setTimeout(run_inline_js, 100);\n    } else if (!root._bokeh_failed_load) {\n      console.log(\"Bokeh: BokehJS failed to load within specified timeout.\");\n      root._bokeh_failed_load = true;\n    }\n    root._bokeh_is_initializing = false\n  }\n\n  function load_or_wait() {\n    // Implement a backoff loop that tries to ensure we do not load multiple\n    // versions of Bokeh and its dependencies at the same time.\n    // In recent versions we use the root._bokeh_is_initializing flag\n    // to determine whether there is an ongoing attempt to initialize\n    // bokeh, however for backward compatibility we also try to ensure\n    // that we do not start loading a newer (Panel>=1.0 and Bokeh>3) version\n    // before older versions are fully initialized.\n    if (root._bokeh_is_initializing && Date.now() > root._bokeh_timeout) {\n      // If the timeout and bokeh was not successfully loaded we reset\n      // everything and try loading again\n      root._bokeh_timeout = Date.now() + 5000;\n      root._bokeh_is_initializing = false;\n      root._bokeh_onload_callbacks = undefined;\n      root._bokeh_is_loading = 0\n      console.log(\"Bokeh: BokehJS was loaded multiple times but one version failed to initialize.\");\n      load_or_wait();\n    } else if (root._bokeh_is_initializing || (typeof root._bokeh_is_initializing === \"undefined\" && root._bokeh_onload_callbacks !== undefined)) {\n      setTimeout(load_or_wait, 100);\n    } else {\n      root._bokeh_is_initializing = true\n      root._bokeh_onload_callbacks = []\n      const bokeh_loaded = root.Bokeh != null && (root.Bokeh.version === py_version || (root.Bokeh.versions !== undefined && root.Bokeh.versions.has(py_version)));\n      if (!reloading && !bokeh_loaded) {\n        if (root.Bokeh) {\n          root.Bokeh = undefined;\n        }\n        console.debug(\"Bokeh: BokehJS not loaded, scheduling load and callback at\", now());\n      }\n      load_libs(css_urls, js_urls, js_modules, js_exports, function() {\n        console.debug(\"Bokeh: BokehJS plotting callback run at\", now());\n        run_inline_js();\n      });\n    }\n  }\n  // Give older versions of the autoload script a head-start to ensure\n  // they initialize before we start loading newer version.\n  setTimeout(load_or_wait, 100)\n}(window));",
            "application/vnd.holoviews_load.v0+json": ""
          },
          "metadata": {},
          "output_type": "display_data"
        },
        {
          "data": {
            "application/javascript": "\nif ((window.PyViz === undefined) || (window.PyViz instanceof HTMLElement)) {\n  window.PyViz = {comms: {}, comm_status:{}, kernels:{}, receivers: {}, plot_index: []}\n}\n\n\n    function JupyterCommManager() {\n    }\n\n    JupyterCommManager.prototype.register_target = function(plot_id, comm_id, msg_handler) {\n      if (window.comm_manager || ((window.Jupyter !== undefined) && (Jupyter.notebook.kernel != null))) {\n        var comm_manager = window.comm_manager || Jupyter.notebook.kernel.comm_manager;\n        comm_manager.register_target(comm_id, function(comm) {\n          comm.on_msg(msg_handler);\n        });\n      } else if ((plot_id in window.PyViz.kernels) && (window.PyViz.kernels[plot_id])) {\n        window.PyViz.kernels[plot_id].registerCommTarget(comm_id, function(comm) {\n          comm.onMsg = msg_handler;\n        });\n      } else if (typeof google != 'undefined' && google.colab.kernel != null) {\n        google.colab.kernel.comms.registerTarget(comm_id, (comm) => {\n          var messages = comm.messages[Symbol.asyncIterator]();\n          function processIteratorResult(result) {\n            var message = result.value;\n            console.log(message)\n            var content = {data: message.data, comm_id};\n            var buffers = []\n            for (var buffer of message.buffers || []) {\n              buffers.push(new DataView(buffer))\n            }\n            var metadata = message.metadata || {};\n            var msg = {content, buffers, metadata}\n            msg_handler(msg);\n            return messages.next().then(processIteratorResult);\n          }\n          return messages.next().then(processIteratorResult);\n        })\n      }\n    }\n\n    JupyterCommManager.prototype.get_client_comm = function(plot_id, comm_id, msg_handler) {\n      if (comm_id in window.PyViz.comms) {\n        return window.PyViz.comms[comm_id];\n      } else if (window.comm_manager || ((window.Jupyter !== undefined) && (Jupyter.notebook.kernel != null))) {\n        var comm_manager = window.comm_manager || Jupyter.notebook.kernel.comm_manager;\n        var comm = comm_manager.new_comm(comm_id, {}, {}, {}, comm_id);\n        if (msg_handler) {\n          comm.on_msg(msg_handler);\n        }\n      } else if ((plot_id in window.PyViz.kernels) && (window.PyViz.kernels[plot_id])) {\n        var comm = window.PyViz.kernels[plot_id].connectToComm(comm_id);\n        comm.open();\n        if (msg_handler) {\n          comm.onMsg = msg_handler;\n        }\n      } else if (typeof google != 'undefined' && google.colab.kernel != null) {\n        var comm_promise = google.colab.kernel.comms.open(comm_id)\n        comm_promise.then((comm) => {\n          window.PyViz.comms[comm_id] = comm;\n          if (msg_handler) {\n            var messages = comm.messages[Symbol.asyncIterator]();\n            function processIteratorResult(result) {\n              var message = result.value;\n              var content = {data: message.data};\n              var metadata = message.metadata || {comm_id};\n              var msg = {content, metadata}\n              msg_handler(msg);\n              return messages.next().then(processIteratorResult);\n            }\n            return messages.next().then(processIteratorResult);\n          }\n        }) \n        var sendClosure = (data, metadata, buffers, disposeOnDone) => {\n          return comm_promise.then((comm) => {\n            comm.send(data, metadata, buffers, disposeOnDone);\n          });\n        };\n        var comm = {\n          send: sendClosure\n        };\n      }\n      window.PyViz.comms[comm_id] = comm;\n      return comm;\n    }\n    window.PyViz.comm_manager = new JupyterCommManager();\n    \n\n\nvar JS_MIME_TYPE = 'application/javascript';\nvar HTML_MIME_TYPE = 'text/html';\nvar EXEC_MIME_TYPE = 'application/vnd.holoviews_exec.v0+json';\nvar CLASS_NAME = 'output';\n\n/**\n * Render data to the DOM node\n */\nfunction render(props, node) {\n  var div = document.createElement(\"div\");\n  var script = document.createElement(\"script\");\n  node.appendChild(div);\n  node.appendChild(script);\n}\n\n/**\n * Handle when a new output is added\n */\nfunction handle_add_output(event, handle) {\n  var output_area = handle.output_area;\n  var output = handle.output;\n  if ((output.data == undefined) || (!output.data.hasOwnProperty(EXEC_MIME_TYPE))) {\n    return\n  }\n  var id = output.metadata[EXEC_MIME_TYPE][\"id\"];\n  var toinsert = output_area.element.find(\".\" + CLASS_NAME.split(' ')[0]);\n  if (id !== undefined) {\n    var nchildren = toinsert.length;\n    var html_node = toinsert[nchildren-1].children[0];\n    html_node.innerHTML = output.data[HTML_MIME_TYPE];\n    var scripts = [];\n    var nodelist = html_node.querySelectorAll(\"script\");\n    for (var i in nodelist) {\n      if (nodelist.hasOwnProperty(i)) {\n        scripts.push(nodelist[i])\n      }\n    }\n\n    scripts.forEach( function (oldScript) {\n      var newScript = document.createElement(\"script\");\n      var attrs = [];\n      var nodemap = oldScript.attributes;\n      for (var j in nodemap) {\n        if (nodemap.hasOwnProperty(j)) {\n          attrs.push(nodemap[j])\n        }\n      }\n      attrs.forEach(function(attr) { newScript.setAttribute(attr.name, attr.value) });\n      newScript.appendChild(document.createTextNode(oldScript.innerHTML));\n      oldScript.parentNode.replaceChild(newScript, oldScript);\n    });\n    if (JS_MIME_TYPE in output.data) {\n      toinsert[nchildren-1].children[1].textContent = output.data[JS_MIME_TYPE];\n    }\n    output_area._hv_plot_id = id;\n    if ((window.Bokeh !== undefined) && (id in Bokeh.index)) {\n      window.PyViz.plot_index[id] = Bokeh.index[id];\n    } else {\n      window.PyViz.plot_index[id] = null;\n    }\n  } else if (output.metadata[EXEC_MIME_TYPE][\"server_id\"] !== undefined) {\n    var bk_div = document.createElement(\"div\");\n    bk_div.innerHTML = output.data[HTML_MIME_TYPE];\n    var script_attrs = bk_div.children[0].attributes;\n    for (var i = 0; i < script_attrs.length; i++) {\n      toinsert[toinsert.length - 1].childNodes[1].setAttribute(script_attrs[i].name, script_attrs[i].value);\n    }\n    // store reference to server id on output_area\n    output_area._bokeh_server_id = output.metadata[EXEC_MIME_TYPE][\"server_id\"];\n  }\n}\n\n/**\n * Handle when an output is cleared or removed\n */\nfunction handle_clear_output(event, handle) {\n  var id = handle.cell.output_area._hv_plot_id;\n  var server_id = handle.cell.output_area._bokeh_server_id;\n  if (((id === undefined) || !(id in PyViz.plot_index)) && (server_id !== undefined)) { return; }\n  var comm = window.PyViz.comm_manager.get_client_comm(\"hv-extension-comm\", \"hv-extension-comm\", function () {});\n  if (server_id !== null) {\n    comm.send({event_type: 'server_delete', 'id': server_id});\n    return;\n  } else if (comm !== null) {\n    comm.send({event_type: 'delete', 'id': id});\n  }\n  delete PyViz.plot_index[id];\n  if ((window.Bokeh !== undefined) & (id in window.Bokeh.index)) {\n    var doc = window.Bokeh.index[id].model.document\n    doc.clear();\n    const i = window.Bokeh.documents.indexOf(doc);\n    if (i > -1) {\n      window.Bokeh.documents.splice(i, 1);\n    }\n  }\n}\n\n/**\n * Handle kernel restart event\n */\nfunction handle_kernel_cleanup(event, handle) {\n  delete PyViz.comms[\"hv-extension-comm\"];\n  window.PyViz.plot_index = {}\n}\n\n/**\n * Handle update_display_data messages\n */\nfunction handle_update_output(event, handle) {\n  handle_clear_output(event, {cell: {output_area: handle.output_area}})\n  handle_add_output(event, handle)\n}\n\nfunction register_renderer(events, OutputArea) {\n  function append_mime(data, metadata, element) {\n    // create a DOM node to render to\n    var toinsert = this.create_output_subarea(\n    metadata,\n    CLASS_NAME,\n    EXEC_MIME_TYPE\n    );\n    this.keyboard_manager.register_events(toinsert);\n    // Render to node\n    var props = {data: data, metadata: metadata[EXEC_MIME_TYPE]};\n    render(props, toinsert[0]);\n    element.append(toinsert);\n    return toinsert\n  }\n\n  events.on('output_added.OutputArea', handle_add_output);\n  events.on('output_updated.OutputArea', handle_update_output);\n  events.on('clear_output.CodeCell', handle_clear_output);\n  events.on('delete.Cell', handle_clear_output);\n  events.on('kernel_ready.Kernel', handle_kernel_cleanup);\n\n  OutputArea.prototype.register_mime_type(EXEC_MIME_TYPE, append_mime, {\n    safe: true,\n    index: 0\n  });\n}\n\nif (window.Jupyter !== undefined) {\n  try {\n    var events = require('base/js/events');\n    var OutputArea = require('notebook/js/outputarea').OutputArea;\n    if (OutputArea.prototype.mime_types().indexOf(EXEC_MIME_TYPE) == -1) {\n      register_renderer(events, OutputArea);\n    }\n  } catch(err) {\n  }\n}\n",
            "application/vnd.holoviews_load.v0+json": ""
          },
          "metadata": {},
          "output_type": "display_data"
        }
      ],
      "source": [
        "# Load packages\n",
        "# For reproducible file paths\n",
        "import os # Interoperable file paths\n",
        "from glob import glob # Find files by pattern\n",
        "import pathlib  # Work with file and directory paths\n",
        "\n",
        "# For gbif packages\n",
        "import pygbif.occurrences as occ\n",
        "import pygbif.species as species\n",
        "from getpass import getpass\n",
        "\n",
        "# For HTTP requests and unzipping\n",
        "import requests \n",
        "import time\n",
        "import zipfile \n",
        "\n",
        "# For spatial data\n",
        "import geopandas as gpd # Work with geospatial data\n",
        "import xrspatial # library for geospatial analysis\n",
        "\n",
        "# For other types of data\n",
        "import earthaccess # For elevation data\n",
        "from math import floor, ceil\n",
        "import matplotlib.pyplot as plt # # Import module for plotting functionality\n",
        "import numpy as np\n",
        "import pandas as pd\n",
        "import rasterio  # Read, write, and manipulate raster datasets\n",
        "import rioxarray as rxr # For combining data into a multi-dimensional arrays\n",
        "import rioxarray.merge as rxrmerge # Import the function for merging raster datasets\n",
        "import xarray as xr # Library for working with labeled muli-dimensional arrays\n",
        "\n",
        "# For invalid geometries\n",
        "from shapely.geometry import MultiPolygon, Polygon\n",
        "\n",
        "# For visualization\n",
        "import holoviews as hv\n",
        "import hvplot.pandas\n",
        "import hvplot.xarray\n",
        "\n"
      ]
    },
    {
      "cell_type": "code",
      "execution_count": 18,
      "id": "4febd851",
      "metadata": {},
      "outputs": [
        {
          "data": {
            "text/plain": [
              "WindowsPath('C:/Users/stem2')"
            ]
          },
          "execution_count": 18,
          "metadata": {},
          "output_type": "execute_result"
        }
      ],
      "source": [
        "# Define and create the project data directories\n",
        "data_dir = os.path.join(\n",
        "    pathlib.Path.home(),\n",
        "    'Documents',\n",
        "    'eaclassprojects',\n",
        "    'climate_models',\n",
        ")\n",
        "os.makedirs(data_dir, exist_ok=True)\n",
        "pathlib.Path.home()\n"
      ]
    },
    {
      "cell_type": "markdown",
      "id": "7f48eb07",
      "metadata": {},
      "source": [
        "## Confirm Species Distribution using  [Global Biodiversity Information Facility (GBIF)](https://www.gbif.org/)"
      ]
    },
    {
      "cell_type": "code",
      "execution_count": 19,
      "id": "b09b9cef",
      "metadata": {},
      "outputs": [],
      "source": [
        "# set gbif directory for study species\n",
        "gbif_dir = os.path.join(data_dir, 'gbif_rhodo')"
      ]
    },
    {
      "cell_type": "code",
      "execution_count": 20,
      "id": "f569de2d",
      "metadata": {},
      "outputs": [],
      "source": [
        "# access gbif\n",
        "reset_credentials = False\n",
        "# GBIF needs a username, password, and email\n",
        "credentials = dict(\n",
        "    GBIF_USER=(input, 'GBIF username:'),\n",
        "    GBIF_PWD=(getpass, 'GBIF password:'),\n",
        "    GBIF_EMAIL=(input, 'GBIF email:'),\n",
        ")\n",
        "for env_variable, (prompt_func, prompt_text) in credentials.items():\n",
        "    # Delete credential from environment if requested\n",
        "    if reset_credentials and (env_variable in os.environ):\n",
        "        os.environ.pop(env_variable)\n",
        "    # Ask for credential and save to environment\n",
        "    if not env_variable in os.environ:\n",
        "        os.environ[env_variable] = prompt_func(prompt_text)"
      ]
    },
    {
      "cell_type": "code",
      "execution_count": 21,
      "id": "eca7e6f1",
      "metadata": {},
      "outputs": [
        {
          "data": {
            "text/plain": [
              "('Rhododendron maximum', 2883094)"
            ]
          },
          "execution_count": 21,
          "metadata": {},
          "output_type": "execute_result"
        }
      ],
      "source": [
        "# species name\n",
        "species_name = 'Rhododendron maximum'\n",
        "\n",
        "# species info for gbif\n",
        "species_info = species.name_lookup(species_name,\n",
        "                                   rank = 'SPECIES')\n",
        "\n",
        "# look at first result\n",
        "first_result = species_info['results'][0]\n",
        "\n",
        "# get species key\n",
        "species_key = first_result['nubKey']\n",
        "\n",
        "# verify\n",
        "first_result['species'], species_key\n"
      ]
    },
    {
      "cell_type": "code",
      "execution_count": 22,
      "id": "62a82a13",
      "metadata": {},
      "outputs": [
        {
          "name": "stderr",
          "output_type": "stream",
          "text": [
            "INFO:Your download key is 0000200-250225214225278\n",
            "INFO:Download file size: 727391 bytes\n",
            "INFO:On disk at C:\\Users\\stem2\\Documents\\eaclassprojects\\climate_models/0000188-250225214225278.zip\n"
          ]
        }
      ],
      "source": [
        "# Identify code for species\n",
        "species_key = 2883094 # Replace with a valid species key\n",
        "\n",
        "# set a file pattern\n",
        "os.makedirs(gbif_dir, exist_ok=True)\n",
        "\n",
        "gbif_pattern = os.path.join(gbif_dir, '*.csv')\n",
        "\n",
        "# download once\n",
        "if not glob(gbif_pattern):\n",
        "      \n",
        "      # submit query to GBIF\n",
        "      gbif_query = occ.download([\n",
        "                f\"speciesKey = {species_key}\",\n",
        "                \"hasCoordinate = True\",\n",
        "            ])\n",
        "      \n",
        "      # only download once\n",
        "      if not 'GBIF_DOWNLOAD_KEY' in os.environ:\n",
        "            os.environ['GBIF_DOWNLOAD_KEY'] = gbif_query[0]\n",
        "\n",
        "            download_key = gbif_query[0]\n",
        "      \n",
        "            # wait for download to build\n",
        "            wait = occ.download_meta(download_key)['status']\n",
        "            while not wait == 'SUCCEEDED':\n",
        "                  wait = occ.download_meta(download_key)['status']\n",
        "                  time.sleep(5)\n",
        "\n",
        "      # download data\n",
        "      download_info = occ.download_get(\n",
        "           os.environ['GBIF_DOWNLOAD_KEY'],\n",
        "           path = data_dir\n",
        "      )\n",
        "\n",
        "      # unzip data\n",
        "      with zipfile.ZipFile(download_info['path'], 'r') as download_zip:\n",
        "            download_zip.extractall(path = gbif_dir)\n",
        "\n",
        "# find csv file path\n",
        "gbif_path = glob(gbif_pattern)[0]             \n",
        "\n",
        "            "
      ]
    },
    {
      "cell_type": "code",
      "execution_count": 26,
      "id": "e0b02d43",
      "metadata": {},
      "outputs": [
        {
          "data": {
            "text/html": [
              "<div>\n",
              "<style scoped>\n",
              "    .dataframe tbody tr th:only-of-type {\n",
              "        vertical-align: middle;\n",
              "    }\n",
              "\n",
              "    .dataframe tbody tr th {\n",
              "        vertical-align: top;\n",
              "    }\n",
              "\n",
              "    .dataframe thead th {\n",
              "        text-align: right;\n",
              "    }\n",
              "</style>\n",
              "<table border=\"1\" class=\"dataframe\">\n",
              "  <thead>\n",
              "    <tr style=\"text-align: right;\">\n",
              "      <th></th>\n",
              "      <th>gbifID</th>\n",
              "      <th>datasetKey</th>\n",
              "      <th>occurrenceID</th>\n",
              "      <th>kingdom</th>\n",
              "      <th>phylum</th>\n",
              "      <th>class</th>\n",
              "      <th>order</th>\n",
              "      <th>family</th>\n",
              "      <th>genus</th>\n",
              "      <th>species</th>\n",
              "      <th>...</th>\n",
              "      <th>identifiedBy</th>\n",
              "      <th>dateIdentified</th>\n",
              "      <th>license</th>\n",
              "      <th>rightsHolder</th>\n",
              "      <th>recordedBy</th>\n",
              "      <th>typeStatus</th>\n",
              "      <th>establishmentMeans</th>\n",
              "      <th>lastInterpreted</th>\n",
              "      <th>mediaType</th>\n",
              "      <th>issue</th>\n",
              "    </tr>\n",
              "  </thead>\n",
              "  <tbody>\n",
              "    <tr>\n",
              "      <th>0</th>\n",
              "      <td>999821</td>\n",
              "      <td>aab0cf80-0c64-11dd-84d1-b8a03c50a862</td>\n",
              "      <td>LD:General:1003027</td>\n",
              "      <td>Plantae</td>\n",
              "      <td>Tracheophyta</td>\n",
              "      <td>Magnoliopsida</td>\n",
              "      <td>Ericales</td>\n",
              "      <td>Ericaceae</td>\n",
              "      <td>Rhododendron</td>\n",
              "      <td>Rhododendron maximum</td>\n",
              "      <td>...</td>\n",
              "      <td>NaN</td>\n",
              "      <td>NaN</td>\n",
              "      <td>CC_BY_NC_4_0</td>\n",
              "      <td>NaN</td>\n",
              "      <td>Mats Krabb</td>\n",
              "      <td>NaN</td>\n",
              "      <td>NaN</td>\n",
              "      <td>2025-02-23T03:04:12.479Z</td>\n",
              "      <td>NaN</td>\n",
              "      <td>GEODETIC_DATUM_ASSUMED_WGS84;OCCURRENCE_STATUS...</td>\n",
              "    </tr>\n",
              "    <tr>\n",
              "      <th>1</th>\n",
              "      <td>930742272</td>\n",
              "      <td>0096dfc0-9925-47ef-9700-9b77814295f1</td>\n",
              "      <td>http://bioimages.vanderbilt.edu/ind-kirchoff/b...</td>\n",
              "      <td>Plantae</td>\n",
              "      <td>Tracheophyta</td>\n",
              "      <td>Magnoliopsida</td>\n",
              "      <td>Ericales</td>\n",
              "      <td>Ericaceae</td>\n",
              "      <td>Rhododendron</td>\n",
              "      <td>Rhododendron maximum</td>\n",
              "      <td>...</td>\n",
              "      <td>Bruce K. Kirchoff</td>\n",
              "      <td>2004-06-28T00:00:00</td>\n",
              "      <td>CC0_1_0</td>\n",
              "      <td>NaN</td>\n",
              "      <td>Bruce K. Kirchoff</td>\n",
              "      <td>NaN</td>\n",
              "      <td>native</td>\n",
              "      <td>2025-02-06T17:33:40.039Z</td>\n",
              "      <td>StillImage</td>\n",
              "      <td>NaN</td>\n",
              "    </tr>\n",
              "    <tr>\n",
              "      <th>2</th>\n",
              "      <td>930742223</td>\n",
              "      <td>0096dfc0-9925-47ef-9700-9b77814295f1</td>\n",
              "      <td>http://bioimages.vanderbilt.edu/ind-kirchoff/b...</td>\n",
              "      <td>Plantae</td>\n",
              "      <td>Tracheophyta</td>\n",
              "      <td>Magnoliopsida</td>\n",
              "      <td>Ericales</td>\n",
              "      <td>Ericaceae</td>\n",
              "      <td>Rhododendron</td>\n",
              "      <td>Rhododendron maximum</td>\n",
              "      <td>...</td>\n",
              "      <td>Bruce K. Kirchoff</td>\n",
              "      <td>2004-06-28T00:00:00</td>\n",
              "      <td>CC0_1_0</td>\n",
              "      <td>NaN</td>\n",
              "      <td>Bruce K. Kirchoff</td>\n",
              "      <td>NaN</td>\n",
              "      <td>native</td>\n",
              "      <td>2025-02-06T17:33:40.502Z</td>\n",
              "      <td>StillImage</td>\n",
              "      <td>NaN</td>\n",
              "    </tr>\n",
              "    <tr>\n",
              "      <th>3</th>\n",
              "      <td>930741667</td>\n",
              "      <td>0096dfc0-9925-47ef-9700-9b77814295f1</td>\n",
              "      <td>http://bioimages.vanderbilt.edu/ind-baskauf/49...</td>\n",
              "      <td>Plantae</td>\n",
              "      <td>Tracheophyta</td>\n",
              "      <td>Magnoliopsida</td>\n",
              "      <td>Ericales</td>\n",
              "      <td>Ericaceae</td>\n",
              "      <td>Rhododendron</td>\n",
              "      <td>Rhododendron maximum</td>\n",
              "      <td>...</td>\n",
              "      <td>Steven J. Baskauf</td>\n",
              "      <td>2006-06-17T00:00:00</td>\n",
              "      <td>CC0_1_0</td>\n",
              "      <td>NaN</td>\n",
              "      <td>Steven J. Baskauf</td>\n",
              "      <td>NaN</td>\n",
              "      <td>native</td>\n",
              "      <td>2025-02-06T17:33:39.001Z</td>\n",
              "      <td>StillImage</td>\n",
              "      <td>NaN</td>\n",
              "    </tr>\n",
              "    <tr>\n",
              "      <th>4</th>\n",
              "      <td>930740779</td>\n",
              "      <td>0096dfc0-9925-47ef-9700-9b77814295f1</td>\n",
              "      <td>http://bioimages.vanderbilt.edu/ind-baskauf/26...</td>\n",
              "      <td>Plantae</td>\n",
              "      <td>Tracheophyta</td>\n",
              "      <td>Magnoliopsida</td>\n",
              "      <td>Ericales</td>\n",
              "      <td>Ericaceae</td>\n",
              "      <td>Rhododendron</td>\n",
              "      <td>Rhododendron maximum</td>\n",
              "      <td>...</td>\n",
              "      <td>Steven J. Baskauf</td>\n",
              "      <td>2003-05-29T00:00:00</td>\n",
              "      <td>CC0_1_0</td>\n",
              "      <td>NaN</td>\n",
              "      <td>Steven J. Baskauf</td>\n",
              "      <td>NaN</td>\n",
              "      <td>native</td>\n",
              "      <td>2025-02-06T17:33:43.581Z</td>\n",
              "      <td>StillImage</td>\n",
              "      <td>NaN</td>\n",
              "    </tr>\n",
              "  </tbody>\n",
              "</table>\n",
              "<p>5 rows × 50 columns</p>\n",
              "</div>"
            ],
            "text/plain": [
              "      gbifID                            datasetKey  \\\n",
              "0     999821  aab0cf80-0c64-11dd-84d1-b8a03c50a862   \n",
              "1  930742272  0096dfc0-9925-47ef-9700-9b77814295f1   \n",
              "2  930742223  0096dfc0-9925-47ef-9700-9b77814295f1   \n",
              "3  930741667  0096dfc0-9925-47ef-9700-9b77814295f1   \n",
              "4  930740779  0096dfc0-9925-47ef-9700-9b77814295f1   \n",
              "\n",
              "                                        occurrenceID  kingdom        phylum  \\\n",
              "0                                 LD:General:1003027  Plantae  Tracheophyta   \n",
              "1  http://bioimages.vanderbilt.edu/ind-kirchoff/b...  Plantae  Tracheophyta   \n",
              "2  http://bioimages.vanderbilt.edu/ind-kirchoff/b...  Plantae  Tracheophyta   \n",
              "3  http://bioimages.vanderbilt.edu/ind-baskauf/49...  Plantae  Tracheophyta   \n",
              "4  http://bioimages.vanderbilt.edu/ind-baskauf/26...  Plantae  Tracheophyta   \n",
              "\n",
              "           class     order     family         genus               species  \\\n",
              "0  Magnoliopsida  Ericales  Ericaceae  Rhododendron  Rhododendron maximum   \n",
              "1  Magnoliopsida  Ericales  Ericaceae  Rhododendron  Rhododendron maximum   \n",
              "2  Magnoliopsida  Ericales  Ericaceae  Rhododendron  Rhododendron maximum   \n",
              "3  Magnoliopsida  Ericales  Ericaceae  Rhododendron  Rhododendron maximum   \n",
              "4  Magnoliopsida  Ericales  Ericaceae  Rhododendron  Rhododendron maximum   \n",
              "\n",
              "   ...       identifiedBy       dateIdentified       license rightsHolder  \\\n",
              "0  ...                NaN                  NaN  CC_BY_NC_4_0          NaN   \n",
              "1  ...  Bruce K. Kirchoff  2004-06-28T00:00:00       CC0_1_0          NaN   \n",
              "2  ...  Bruce K. Kirchoff  2004-06-28T00:00:00       CC0_1_0          NaN   \n",
              "3  ...  Steven J. Baskauf  2006-06-17T00:00:00       CC0_1_0          NaN   \n",
              "4  ...  Steven J. Baskauf  2003-05-29T00:00:00       CC0_1_0          NaN   \n",
              "\n",
              "          recordedBy typeStatus establishmentMeans           lastInterpreted  \\\n",
              "0         Mats Krabb        NaN                NaN  2025-02-23T03:04:12.479Z   \n",
              "1  Bruce K. Kirchoff        NaN             native  2025-02-06T17:33:40.039Z   \n",
              "2  Bruce K. Kirchoff        NaN             native  2025-02-06T17:33:40.502Z   \n",
              "3  Steven J. Baskauf        NaN             native  2025-02-06T17:33:39.001Z   \n",
              "4  Steven J. Baskauf        NaN             native  2025-02-06T17:33:43.581Z   \n",
              "\n",
              "    mediaType                                              issue  \n",
              "0         NaN  GEODETIC_DATUM_ASSUMED_WGS84;OCCURRENCE_STATUS...  \n",
              "1  StillImage                                                NaN  \n",
              "2  StillImage                                                NaN  \n",
              "3  StillImage                                                NaN  \n",
              "4  StillImage                                                NaN  \n",
              "\n",
              "[5 rows x 50 columns]"
            ]
          },
          "execution_count": 26,
          "metadata": {},
          "output_type": "execute_result"
        }
      ],
      "source": [
        "# open gbif data\n",
        "gbif_df = pd.read_csv(\n",
        "    gbif_path,\n",
        "    delimiter ='\\t'\n",
        ")\n",
        "gbif_df.head()\n"
      ]
    },
    {
      "cell_type": "markdown",
      "id": "3c7d719b",
      "metadata": {},
      "source": [
        "## Location data\n",
        "### From [US Census Tiger files](https://www.census.gov/geographies/mapping-files/time-series/geo/tiger-line-file.html)"
      ]
    },
    {
      "cell_type": "code",
      "execution_count": 22,
      "id": "66132e48",
      "metadata": {},
      "outputs": [
        {
          "name": "stdout",
          "output_type": "stream",
          "text": [
            "Shapefile already exists. Skipping download.\n"
          ]
        },
        {
          "data": {
            "text/plain": [
              "<Axes: >"
            ]
          },
          "execution_count": 22,
          "metadata": {},
          "output_type": "execute_result"
        },
        {
          "data": {
            "image/png": "[encoded data removed]",
            "text/plain": [
              "<Figure size 640x480 with 1 Axes>"
            ]
          },
          "metadata": {},
          "output_type": "display_data"
        }
      ],
      "source": [
        "# Define the URL of the shapefile\n",
        "url = \"https://www2.census.gov/geo/tiger/TIGER2023/COUNTY/tl_2023_us_county.zip\"\n",
        "\n",
        "# Download the shapefile to the specified directory\n",
        "zip_filepath = os.path.join(data_dir, \"tl_2023_us_county.zip\") # full path to zip file.\n",
        "shapefile_path = os.path.join(data_dir, \"tl_2023_us_county.shp\") # Construct the path to the extracted shapefile\n",
        "\n",
        "# Check if the shapefile already exists\n",
        "if not os.path.exists(shapefile_path):\n",
        "    # Download the shapefile only if it doesn't exist\n",
        "    try:\n",
        "        response = requests.get(url)\n",
        "        response.raise_for_status()\n",
        "\n",
        "        # Extract the shapefile\n",
        "        with open(zip_filepath, \"wb\") as f:\n",
        "            f.write(response.content)\n",
        "        # Extract the shapefile to the specified directory\n",
        "        with zipfile.ZipFile(zip_filepath, \"r\") as zip_ref:\n",
        "            zip_ref.extractall(data_dir) #extract to the data_dir\n",
        "\n",
        "        print(\"Shapefile downloaded and extracted\")\n",
        "    \n",
        "    except requests.exceptions.RequestException as e:\n",
        "        print(f\"Error downloading shapefile: {e}\")\n",
        "    except zipfile.BadZipFile as e:\n",
        "        print(f\"Error extracting zip file: {e}\")\n",
        "    except Exception as e:\n",
        "        print(f\"An unexpected error occurred: {e}\")\n",
        "\n",
        "else:\n",
        "    print(\"Shapefile already exists. Skipping download.\")\n",
        "\n",
        "# Load the shapefile into a GeoDataFrame\n",
        "county_data = gpd.read_file(shapefile_path)\n",
        "\n",
        "# Filter for a specific counties \n",
        "franklin_county = county_data[(county_data['STATEFP'] == '23') & (county_data['COUNTYFP'] == '007')]\n",
        "jackson_county = county_data[(county_data['STATEFP'] == '37') & (county_data['COUNTYFP'] == '099')]\n",
        "\n",
        "# Plot the shapefile\n",
        "franklin_county.plot()"
      ]
    },
    {
      "cell_type": "code",
      "execution_count": 12,
      "id": "9581d59c",
      "metadata": {},
      "outputs": [
        {
          "data": {
            "text/plain": [
              "<Axes: >"
            ]
          },
          "execution_count": 12,
          "metadata": {},
          "output_type": "execute_result"
        },
        {
          "data": {
            "image/png": "[encoded data removed]",
            "text/plain": [
              "<Figure size 640x480 with 1 Axes>"
            ]
          },
          "metadata": {},
          "output_type": "display_data"
        }
      ],
      "source": [
        "jackson_county.plot()"
      ]
    },
    {
      "cell_type": "markdown",
      "id": "b2de1c19-5b83-45dd-a5ab-66b0bc438978",
      "metadata": {},
      "source": [
        "## Soil data\n",
        "### From The [POLARIS dataset](http://hydrology.cee.duke.edu/POLARIS/) "
      ]
    },
    {
      "cell_type": "code",
      "execution_count": null,
      "id": "a3800a22",
      "metadata": {
        "highlight": true
      },
      "outputs": [],
      "source": [
        "# From Gemini\n",
        "def get_soil_data(min_lon, max_lon, min_lat, max_lat, soil_property=\"sand\", depth=\"5_15\"):\n",
        "    \"\"\"\n",
        "    Accesses Polaris soil data for a specified bounding box.\n",
        "\n",
        "    Args:\n",
        "        min_lon (float): Minimum longitude.\n",
        "        max_lon (float): Maximum longitude.\n",
        "        min_lat (float): Minimum latitude.\n",
        "        max_lat (float): Maximum latitude.\n",
        "        soil_property (str): Soil property to retrieve (e.g., \"sand\", \"clay\", \"silt\").\n",
        "        depth (str): Soil depth range (e.g., \"5_15\", \"15_30\").\n",
        "\n",
        "    Returns:\n",
        "        xarray.DataArray: Soil data as a DataArray, or None if an error occurs.\n",
        "    \"\"\"\n",
        "    soil_url_template = (\n",
        "        \"http://hydrology.cee.duke.edu/POLARIS/PROPERTIES/v1.0\"\n",
        "        f\"/{soil_property}\"\n",
        "        \"/mean\"\n",
        "        f\"/{depth}/\"\n",
        "        \"/lat{min_lat}{max_lat}_lon{min_lon}{max_lon}.tif\"\n",
        "    )\n",
        "    soil_url = soil_url_template.format(\n",
        "        min_lat=min_lat, max_lat=max_lat, min_lon=min_lon, max_lon=max_lon\n",
        "    )\n",
        "\n",
        "    try:\n",
        "        soil_da = rxr.open_rasterio(soil_url, mask_and_scale=True).squeeze()\n",
        "        return soil_da\n",
        "    except Exception as e:\n",
        "        print(f\"Error accessing soil data for {soil_url}: {e}\")\n",
        "        return None\n",
        "\n",
        "def get_soil_data_multiple_locations(bounds_min_lon, bounds_min_lat, bounds_max_lon, bounds_max_lat, soil_property=\"sand\", depth=\"5_15\"):\n",
        "    \"\"\"\n",
        "    Retrieves soil data for multiple 1-degree grid cells within a bounding box.\n",
        "\n",
        "    Args:\n",
        "        bounds_min_lon (float): Minimum longitude of the overall bounding box.\n",
        "        bounds_min_lat (float): Minimum latitude of the overall bounding box.\n",
        "        bounds_max_lon (float): Maximum longitude of the overall bounding box.\n",
        "        bounds_max_lat (float): Maximum latitude of the overall bounding box.\n",
        "        soil_property (str): Soil property to retrieve (e.g., \"sand\", \"clay\", \"silt\").\n",
        "        depth (str): Soil depth range (e.g., \"5_15\", \"15_30\").\n",
        "\n",
        "    Returns:\n",
        "        dict: A dictionary where keys are (min_lon, min_lat) tuples and values are xarray.DataArrays.\n",
        "    \"\"\"\n",
        "    soil_data_dict = {}\n",
        "    for min_lon in range(floor(bounds_min_lon), ceil(bounds_max_lon)):\n",
        "        for min_lat in range(floor(bounds_min_lat), ceil(bounds_max_lat)):\n",
        "            max_lon = min_lon + 1\n",
        "            max_lat = min_lat + 1\n",
        "            soil_da = get_soil_data(min_lon, max_lon, min_lat, max_lat, soil_property, depth)\n",
        "            if soil_da is not None:\n",
        "                soil_data_dict[(min_lon, min_lat)] = soil_da\n",
        "    return soil_data_dict\n",
        "\n",
        "# Example Usage (assuming cherokee_county.total_bounds is defined elsewhere)\n",
        "# Example of cherokee_county.total_bounds.\n",
        "cherokee_county = type(\"obj\",(object,),{\"total_bounds\":(-95.5, 35.5, -94.0, 37.0)}) # Creating dummy object to simulate cherokee_county\n",
        "\n",
        "bounds_min_lon, bounds_min_lat, bounds_max_lon, bounds_max_lat = cherokee_county.total_bounds\n",
        "\n",
        "soil_data_results = get_soil_data_multiple_locations(\n",
        "    bounds_min_lon, bounds_min_lat, bounds_max_lon, bounds_max_lat\n",
        ")\n",
        "\n",
        "# Accessing the soil data for a specific location\n",
        "if (-95, 36) in soil_data_results:\n",
        "    soil_data_at_location = soil_data_results[(-95, 36)]\n",
        "    print(soil_data_at_location)\n",
        "else:\n",
        "    print(\"Soil data not found for location (-95, 36)\")\n",
        "\n",
        "# Example of using a different Soil property and depth.\n",
        "clay_data_results = get_soil_data_multiple_locations(bounds_min_lon, bounds_min_lat, bounds_max_lon, bounds_max_lat, soil_property='clay', depth='15_30')\n",
        "\n",
        "if (-95, 36) in clay_data_results:\n",
        "    clay_data_at_location = clay_data_results[(-95, 36)]\n",
        "    print(clay_data_at_location)\n",
        "else:\n",
        "    print(\"Clay data not found for location (-95, 36)\")"
      ]
    },
    {
      "cell_type": "markdown",
      "id": "4aca6fd5-5219-4e04-8ac8-c5a6ecba9d9a",
      "metadata": {},
      "source": [
        "## Topographic data\n",
        "### Elevation data is from the [SRTM dataset](https://www.earthdata.nasa.gov/data/instruments/srtm), available through the [earthaccess API](https://earthaccess.readthedocs.io/en/latest/quick-start/)."
      ]
    },
    {
      "cell_type": "code",
      "execution_count": null,
      "id": "ff99ab9d",
      "metadata": {
        "highlight": true
      },
      "outputs": [],
      "source": [
        "# From Gemini\n",
        "import earthaccess\n",
        "import os\n",
        "from glob import glob\n",
        "import rasterio as rxr\n",
        "import rioxarray.merge as rxrmerge\n",
        "\n",
        "def search_and_print_datasets(keyword, count=10):\n",
        "    \"\"\"Searches for datasets and prints their short names and titles.\"\"\"\n",
        "    datasets = earthaccess.search_datasets(keyword=keyword, count=count)\n",
        "    for dataset in datasets:\n",
        "        print(dataset['umm']['ShortName'], dataset['umm']['EntryTitle'])\n",
        "\n",
        "def download_and_process_elevation(short_name, bounds, data_dir, pattern):\n",
        "    \"\"\"Downloads, extracts, and combines elevation data for a given location.\"\"\"\n",
        "    if not glob(pattern):\n",
        "        results = earthaccess.search_data(short_name=short_name, bounding_box=bounds)\n",
        "        earthaccess.download(results, data_dir)\n",
        "\n",
        "    da_list = []\n",
        "    for path in glob(pattern):\n",
        "        tile_da = rxr.open_rasterio(path, mask_and_scale=True).squeeze()\n",
        "        cropped_da = tile_da.rio.clip_box(*bounds)\n",
        "        da_list.append(cropped_da)\n",
        "    return rxrmerge.merge_arrays(da_list)\n",
        "\n",
        "# Assuming data_dir, nc_data_dir, cherokee_county, and jackson_county are defined elsewhere.\n",
        "# Example of dummy data\n",
        "data_dir = \"./ok_data\"\n",
        "nc_data_dir = \"./nc_data\"\n",
        "cherokee_county = type(\"obj\",(object,),{\"total_bounds\":(-95.5, 35.5, -94.0, 37.0)})\n",
        "jackson_county = type(\"obj\",(object,),{\"total_bounds\":(-83.5, 35.0, -82.5, 36.0)})\n",
        "\n",
        "# Login to earthaccess\n",
        "earthaccess.login()\n",
        "\n",
        "# Search and print datasets\n",
        "search_and_print_datasets(keyword='SRTM DEM', count=11)\n",
        "\n",
        "# Download and process elevation data for Cherokee County, OK\n",
        "ok_srtm_pattern = os.path.join(data_dir, '*.hgt.zip')\n",
        "ok_bounds = tuple(cherokee_county.total_bounds)\n",
        "ok_srtm_da = download_and_process_elevation(\n",
        "    short_name=\"SRTMGL1\",\n",
        "    bounds=ok_bounds,\n",
        "    data_dir=data_dir,\n",
        "    pattern=ok_srtm_pattern,\n",
        ")\n",
        "\n",
        "# Download and process elevation data for Jackson County, NC\n",
        "nc_srtm_pattern = os.path.join(nc_data_dir, '*.hgt.zip')\n",
        "nc_bounds = tuple(jackson_county.total_bounds)\n",
        "nc_srtm_da = download_and_process_elevation(\n",
        "    short_name=\"SRTMGL1\",\n",
        "    bounds=nc_bounds,\n",
        "    data_dir=nc_data_dir,\n",
        "    pattern=nc_srtm_pattern,\n",
        ")\n",
        "\n",
        "print(\"Oklahoma elevation data processed.\")\n",
        "print(\"North Carolina elevation data processed.\")"
      ]
    },
    {
      "cell_type": "markdown",
      "id": "f006b1d0-e899-4477-b60b-7489a5fa6560",
      "metadata": {},
      "source": [
        "## Climate model data\n",
        "### [MACAv2 data](\"http://thredds.northwestknowledge.net:8080/thredds/reacch_climate_CMIP5_macav2_catalog2.html\") is used for both historic and future climate data for at least four of the CMIP models. Overall, this project will combine 8 climate rasters for each site.\n"
      ]
    },
    {
      "cell_type": "code",
      "execution_count": null,
      "id": "98f0ac7b",
      "metadata": {
        "highlight": true
      },
      "outputs": [],
      "source": [
        "# From Gemini\n",
        "import xarray as xr\n",
        "import pandas as pd\n",
        "\n",
        "def convert_longitude(longitude):\n",
        "    \"\"\"Convert longitude range from 0-360 to -180-180.\"\"\"\n",
        "    return (longitude - 360) if longitude > 180 else longitude\n",
        "\n",
        "def get_climate_model_data(state_site, site_gdf, variable='pr', start_year=2096):\n",
        "    \"\"\"\n",
        "    Retrieves and processes climate model data for a given location.\n",
        "\n",
        "    Args:\n",
        "        state_site (str): Name of the state or site.\n",
        "        site_gdf (geopandas.GeoDataFrame): GeoDataFrame representing the site's geometry.\n",
        "        variable (str): Climate variable (e.g., 'pr' for precipitation).\n",
        "        start_year (int): Starting year for the data.\n",
        "\n",
        "    Returns:\n",
        "        list: A list of dictionaries containing processed data.\n",
        "    \"\"\"\n",
        "    end_year = start_year + 3\n",
        "    miroc5_url = (\n",
        "        'http://thredds.northwestknowledge.net:8080'\n",
        "        '/thredds/dodsC/MACAV2/MIROC5/'\n",
        "        f'macav2metdata_{variable}_MIROC5_r1i1p1_rcp45_'\n",
        "        f'{start_year}_{end_year}_CONUS_monthly.nc'\n",
        "    )\n",
        "    da = xr.open_dataset(miroc5_url).squeeze().precipitation\n",
        "    bounds = site_gdf.to_crs(da.rio.crs).total_bounds\n",
        "    da = da.assign_coords(lon=(\"lon\", [convert_longitude(l) for l in da.lon.values]))\n",
        "    da = da.rio.set_spatial_dims(x_dim='lon', y_dim='lat')\n",
        "    da = da.rio.clip_box(*bounds)\n",
        "\n",
        "    return [\n",
        "        dict(\n",
        "            state_site=state_site,\n",
        "            variable=variable,\n",
        "            start_year=start_year,\n",
        "            da=da,\n",
        "        )\n",
        "    ]\n",
        "\n",
        "# Assuming cherokee_county and jackson_county are defined elsewhere.\n",
        "# Example of dummy data.\n",
        "cherokee_county = type(\"obj\",(object,),{\"to_crs\": lambda x: type(\"obj\",(object,),{\"total_bounds\":(-95.5, 35.5, -94.0, 37.0)})})\n",
        "jackson_county = type(\"obj\",(object,),{\"to_crs\": lambda x: type(\"obj\",(object,),{\"total_bounds\":(-83.5, 35.0, -82.5, 36.0)})})\n",
        "\n",
        "# Process data for both locations\n",
        "all_data = []\n",
        "for state_site, site_gdf in {'Oklahoma': cherokee_county, 'North Carolina': jackson_county}.items():\n",
        "    all_data.extend(get_climate_model_data(state_site, site_gdf))\n",
        "\n",
        "# Create a DataFrame from the combined data\n",
        "df = pd.DataFrame(all_data)\n",
        "\n",
        "# Print relevant columns\n",
        "print(df[['state_site', 'variable', 'start_year']])"
      ]
    },
    {
      "cell_type": "markdown",
      "id": "4ee33c63-764e-4065-93c4-ac7e8d383224",
      "metadata": {},
      "source": [
        "## Climate model reflection\n"
      ]
    },
    {
      "cell_type": "markdown",
      "id": "409226ef",
      "metadata": {},
      "source": [
        "## HARMONIZE DATA\n",
        "### Grids for all data match each other using the [reproject, match method from rioxarray](https://corteva.github.io/rioxarray/stable/examples/reproject_match.html#Reproject-Match). "
      ]
    },
    {
      "cell_type": "code",
      "execution_count": null,
      "id": "fd73531a",
      "metadata": {},
      "outputs": [],
      "source": [
        "# Harmonize data"
      ]
    },
    {
      "cell_type": "markdown",
      "id": "b46dd20b-8772-46d6-9981-2be1fb91ef1b",
      "metadata": {},
      "source": [
        "## FUZZY LOGIC MODEL\n",
        "### The [`scikit-fuzzy`](https://pythonhosted.org/scikit-fuzzy/) library is used to convert data into values from 0 to 1 using _Rhododendron maximum_ habitat information. Layers for each variable are combined to get a single suitability number for each square."
      ]
    },
    {
      "cell_type": "code",
      "execution_count": 6,
      "id": "cacfdcef",
      "metadata": {
        "highlight": true
      },
      "outputs": [],
      "source": [
        "# Create fuzzy logic suitability model"
      ]
    },
    {
      "cell_type": "markdown",
      "id": "32ef3341-2f6d-4479-ae0d-b6e3c704a624",
      "metadata": {},
      "source": [
        "## RESULTS\n",
        "### Plots showing habitat suitability for _Rhododendron maximum_ in North Carolina and Maine over 30 year periods"
      ]
    },
    {
      "cell_type": "code",
      "execution_count": 7,
      "id": "0bafdd1b",
      "metadata": {
        "highlight": true
      },
      "outputs": [],
      "source": [
        "# Create plots"
      ]
    },
    {
      "cell_type": "markdown",
      "id": "11ec51a0-63dd-443b-80ae-c9f4c921f7af",
      "metadata": {},
      "source": [
        "## Results interpretation"
      ]
    }
  ],
  "metadata": {
    "kernelspec": {
      "display_name": "earth-analytics-python",
      "language": "python",
      "name": "python3"
    },
    "language_info": {
      "codemirror_mode": {
        "name": "ipython",
        "version": 3
      },
      "file_extension": ".py",
      "mimetype": "text/x-python",
      "name": "python",
      "nbconvert_exporter": "python",
      "pygments_lexer": "ipython3",
      "version": "3.11.10"
    }
  },
  "nbformat": 4,
  "nbformat_minor": 5
}
