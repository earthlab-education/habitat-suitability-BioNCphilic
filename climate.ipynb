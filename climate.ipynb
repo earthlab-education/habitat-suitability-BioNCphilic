{
  "cells": [
    {
      "cell_type": "markdown",
      "id": "4d57d093-4872-4994-ba5c-0dc6ff0dec7b",
      "metadata": {},
      "source": [
        "# Habitat Suitability under Climate Change\n",
        "\n",
        "## Study Question: What are the potential climate change impacts on headwater habitats where _Rhododendron maximum_ currently exist?\n",
        "\n",
        "### Our changing climate is altering where key species can live.This project creates a habitat suitability model for _Rododendron maximum_ using the [MACAv2 dataset](https://www.climatologylab.org/maca.html). This suitability assessment will be based on combining multiple data layers related to soil, topography, and climate. \n",
        "\n",
        "### _Rhododendron maximum_ is found in North Carolina and Maine which are both part of the Appalachian Mountains. Dudleya, et al identify _Rhododendron maximum_ as an emerging foundation species following the decline of the American Chestnut and Eastern Hemlock. In addition, \"Rhododendron affects numerous riparian forest ecosystem processes, including decomposition and nutrient cycling.\" Of the four hardiness division established by Sakai, et al, _Rhododendron maximum_ is listed in the very hardy category with a tolerance for temperatures down to -40 F, although the USDA recommends a minimum temperature of -13 F with 150 frost free days. _Rhododendron maximum_ is adapted to medium & coarse textured soils with drought tolerance and medium tolerance for fire. It is found at elevations up to 6200 feet which includes all of Franklin County, ME and most of Jackson County, NC except for the highest peak Richland Balsam on the Blue Ridge Parkway. \n",
        "\n",
        "\n",
        "## Climate Models\n",
        "### This study will look at data from 1988 to 2018 in Jackson County, NC and Franklin County, ME. This historic time period was chosen because of the severe drought on the east coast of the US. According to Changnon, the 1988 drought was the worst in a century. In addition, climate change from 2030 to 2060 will be projected. A range of climate models were selected using a Future Climate Scatter tool from the climate toolbox so that the models have different national origins. For each model, here is some information on the model components and projection for Moscow, Idaho between 2040 and 2069 based upon the RCP8.5 scenario. The scenario assumes high greenhouse gas emissions as the world remains heavily reliant on fossil fuels and continued global economic growth. A key aspect of RCP8.5 is the assumption of minimal implementation of policies aimed at mitigating climate change, so this is a worst case scenario.\n",
        "\n",
        "* **MIROC5** - Model for Interdisciplinary Research on Climate (Japan)\n",
        "    * Future projection [Temp. 85.1 F; Precip. 10.1 in.]\n",
        "    * Integrates multiple components like atmosphere, ocean, land, sea ice, and rivers to study complex interactions \n",
        "* **NorESM1-M** - Norwegian Earth System Model (Norway)\n",
        "    * Future projection [Temp. 88.4 F; Precip. 9.7 in.]\n",
        "    * Includes components for modeling the atmosphere, ocean, sea ice, land, and biogeochemical processes and capabilities for simulating interactions between chemistry, aerosols, clouds, and radiation.\n",
        "* **IPSL-CM5A-MR** - Institut Pierre Simon Laplace fifth generation climate model medium resolution (France)\n",
        "    * Past projection [Temp. 80.0 F; Precip. 8.6 in.]\n",
        "    *  Includes components for simulating various aspects of the Earth's climate system, including atmospheric physics, ocean dynamics, and land surface processes.\n",
        "* **GFDL-ESM2M** - Geophysical Fluid Dynamics Laboratory Earth System Model (USA)\n",
        "    * Past projection [Temp. 79.5 F; Precip. 7.9 in.] \n",
        "    * Includes representations of biogeochemical cycles, particularly the carbon cycle. \n",
        "### Using both historic and projected climate parameters will inform the habitat suitability analysis for _Rhododendron maximum_ along the Appalachian Mountains.\n"
      ]
    },
    {
      "cell_type": "markdown",
      "id": "7b733766-e23f-43a2-a7fb-09ce0ddcf059",
      "metadata": {},
      "source": [
        "## Information Sources\n",
        "* Maura P. Dudleya, Mary Freeman, Seth Wenger, Rhett Jackson, and Catherine M. Pringle. 15 September 2020. Rethinking foundation species in a changing world: the case for Rhododendron maximum as an emerging foundation species in shifting ecosystems of the Southern Appalachians. _Forest Ecology and Management_ Volume 472, p.  118240. available online: https://doi.org/10.1016/j.foreco.2020.118240\n",
        "* A. Sakai, L. Fuchigami, and C.J. Weiser. 1986. Cold Hardiness in the Genus Rhododendron. _Journal of the American Society for Horticultural Science_ 111(2):273-280. \n",
        "* USDA PLANTS Database. available online: https://plants.usda.gov/plant-profile/RHMA4/characteristics\n",
        "* Flora of North America Association. 2020. available online: http://floranorthamerica.org/Rhododendron_maximum\n",
        "* Stanley A. Changnon. 01 Sep 1989. The 1988 Drought, Barges, and Diversion. _Bulletin of the American Meteorological Society_ Volume 70: Issue 9 pp:1092-1104. available online: https://journals.ametsoc.org/view/journals/bams/70/9/1520-0477_1989_070_1092_tdbad_2_0_co_2.xml\n",
        "* Hegewisch, K.C., Laquindanum, V., Fleishman, E., Hartmann, H., and Mills-Novoa, M.. Climate Toolbox Tool Summary series. https://ClimateToolbox.org.\n",
        "* Explainer: The high-emissions ‘RCP8.5’ global warming scenario. available online at: https://www.carbonbrief.org/explainer-the-high-emissions-rcp8-5-global-warming-scenario/\n",
        "* Google Gemini was used to identify sources and compile known information. In addition, Google Gemini helped identify coding errors and suggested remedies."
      ]
    },
    {
      "cell_type": "code",
      "execution_count": 17,
      "id": "124cd766",
      "metadata": {},
      "outputs": [
        {
          "data": {
            "text/plain": [
              "WindowsPath('C:/Users/stem2')"
            ]
          },
          "execution_count": 17,
          "metadata": {},
          "output_type": "execute_result"
        }
      ],
      "source": [
        "# Import needed packages\n",
        "import requests # For making HTTP requests\n",
        "import os # Interoperable file paths\n",
        "import pathlib  # Work with file and directory paths\n",
        "import zipfile # Work with zip files\n",
        "\n",
        "import geopandas as gpd # Work with geospatial data\n",
        "import rasterio # Read, write, and manipulate raster datasets\n",
        "\n",
        "# Define and create the project data directories\n",
        "data_dir = os.path.join(\n",
        "    pathlib.Path.home(),\n",
        "    'Documents'\n",
        "    'eaclassprojects',\n",
        "    'climate_models',\n",
        ")\n",
        "os.makedirs(data_dir, exist_ok=True)\n",
        "pathlib.Path.home()\n"
      ]
    },
    {
      "cell_type": "code",
      "execution_count": 22,
      "id": "66132e48",
      "metadata": {},
      "outputs": [
        {
          "name": "stdout",
          "output_type": "stream",
          "text": [
            "Shapefile already exists. Skipping download.\n"
          ]
        },
        {
          "data": {
            "text/plain": [
              "<Axes: >"
            ]
          },
          "execution_count": 22,
          "metadata": {},
          "output_type": "execute_result"
        },
        {
          "data": {
            "image/png": "[encoded data removed]",
            "text/plain": [
              "<Figure size 640x480 with 1 Axes>"
            ]
          },
          "metadata": {},
          "output_type": "display_data"
        }
      ],
      "source": [
        "# Define the URL of the shapefile\n",
        "url = \"https://www2.census.gov/geo/tiger/TIGER2023/COUNTY/tl_2023_us_county.zip\"\n",
        "\n",
        "# Download the shapefile to the specified directory\n",
        "zip_filepath = os.path.join(data_dir, \"tl_2023_us_county.zip\") # full path to zip file.\n",
        "shapefile_path = os.path.join(data_dir, \"tl_2023_us_county.shp\") # Construct the path to the extracted shapefile\n",
        "\n",
        "# Check if the shapefile already exists\n",
        "if not os.path.exists(shapefile_path):\n",
        "    # Download the shapefile only if it doesn't exist\n",
        "    try:\n",
        "        response = requests.get(url)\n",
        "        response.raise_for_status()\n",
        "\n",
        "        # Extract the shapefile\n",
        "        with open(zip_filepath, \"wb\") as f:\n",
        "            f.write(response.content)\n",
        "        # Extract the shapefile to the specified directory\n",
        "        with zipfile.ZipFile(zip_filepath, \"r\") as zip_ref:\n",
        "            zip_ref.extractall(data_dir) #extract to the data_dir\n",
        "\n",
        "        print(\"Shapefile downloaded and extracted\")\n",
        "    \n",
        "    except requests.exceptions.RequestException as e:\n",
        "        print(f\"Error downloading shapefile: {e}\")\n",
        "    except zipfile.BadZipFile as e:\n",
        "        print(f\"Error extracting zip file: {e}\")\n",
        "    except Exception as e:\n",
        "        print(f\"An unexpected error occurred: {e}\")\n",
        "\n",
        "else:\n",
        "    print(\"Shapefile already exists. Skipping download.\")\n",
        "\n",
        "# Load the shapefile into a GeoDataFrame\n",
        "county_data = gpd.read_file(shapefile_path)\n",
        "\n",
        "# Filter for a specific counties \n",
        "franklin_county = county_data[(county_data['STATEFP'] == '23') & (county_data['COUNTYFP'] == '007')]\n",
        "jackson_county = county_data[(county_data['STATEFP'] == '37') & (county_data['COUNTYFP'] == '099')]\n",
        "\n",
        "# Plot the shapefile\n",
        "franklin_county.plot()"
      ]
    },
    {
      "cell_type": "code",
      "execution_count": 12,
      "id": "9581d59c",
      "metadata": {},
      "outputs": [
        {
          "data": {
            "text/plain": [
              "<Axes: >"
            ]
          },
          "execution_count": 12,
          "metadata": {},
          "output_type": "execute_result"
        },
        {
          "data": {
            "image/png": "[encoded data removed]",
            "text/plain": [
              "<Figure size 640x480 with 1 Axes>"
            ]
          },
          "metadata": {},
          "output_type": "display_data"
        }
      ],
      "source": [
        "jackson_county.plot()"
      ]
    },
    {
      "cell_type": "markdown",
      "id": "b2de1c19-5b83-45dd-a5ab-66b0bc438978",
      "metadata": {},
      "source": [
        "## STEP 2: DATA ACCESS\n",
        "\n",
        "### Soil data\n",
        "\n",
        "The [POLARIS dataset](http://hydrology.cee.duke.edu/POLARIS/) is a\n",
        "convenient way to uniformly access a variety of soil parameters such as\n",
        "pH and percent clay in the US. It is available for a range of depths (in\n",
        "cm) and split into 1x1 degree tiles.\n",
        "\n",
        "<link rel=\"stylesheet\" type=\"text/css\" href=\"./assets/styles.css\"><div class=\"callout callout-style-default callout-titled callout-task\"><div class=\"callout-header\"><div class=\"callout-icon-container\"><i class=\"callout-icon\"></i></div><div class=\"callout-title-container flex-fill\">Try It</div></div><div class=\"callout-body-container callout-body\"><p>Write a <strong>function with a numpy-style docstring</strong> that\n",
        "will download POLARIS data for a particular location, soil parameter,\n",
        "and soil depth. Your function should account for the situation where\n",
        "your site boundary crosses over multiple tiles, and merge the necessary\n",
        "data together.</p>\n",
        "<p>Then, use loops to download and organize the rasters you will need to\n",
        "complete this section. Include soil parameters that will help you to\n",
        "answer your scientific question. We recommend using a soil depth that\n",
        "best corresponds with the rooting depth of your species.</p></div></div>"
      ]
    },
    {
      "cell_type": "code",
      "execution_count": 2,
      "id": "a3800a22",
      "metadata": {
        "highlight": true
      },
      "outputs": [],
      "source": [
        "# Download soil data"
      ]
    },
    {
      "cell_type": "markdown",
      "id": "4aca6fd5-5219-4e04-8ac8-c5a6ecba9d9a",
      "metadata": {},
      "source": [
        "### Topographic data\n",
        "\n",
        "One way to access reliable elevation data is from the [SRTM\n",
        "dataset](https://www.earthdata.nasa.gov/data/instruments/srtm),\n",
        "available through the [earthaccess\n",
        "API](https://earthaccess.readthedocs.io/en/latest/quick-start/).\n",
        "\n",
        "<link rel=\"stylesheet\" type=\"text/css\" href=\"./assets/styles.css\"><div class=\"callout callout-style-default callout-titled callout-task\"><div class=\"callout-header\"><div class=\"callout-icon-container\"><i class=\"callout-icon\"></i></div><div class=\"callout-title-container flex-fill\">Try It</div></div><div class=\"callout-body-container callout-body\"><p>Write a <strong>function with a numpy-style docstring</strong> that\n",
        "will download SRTM elevation data for a particular location and\n",
        "calculate any additional topographic variables you need such as slope or\n",
        "aspect.</p>\n",
        "<p>Then, use loops to download and organize the rasters you will need to\n",
        "complete this section. Include topographic parameters that will help you\n",
        "to answer your scientific question.</p></div></div>\n",
        "\n",
        "> **Warning**\n",
        ">\n",
        "> Be careful when computing the slope from elevation that the units of\n",
        "> elevation match the projection units (e.g. meters and meters, not\n",
        "> meters and degrees). You will need to project the SRTM data to\n",
        "> complete this calculation correctly."
      ]
    },
    {
      "cell_type": "code",
      "execution_count": 3,
      "id": "ff99ab9d",
      "metadata": {
        "highlight": true
      },
      "outputs": [],
      "source": [
        "# Download soil data"
      ]
    },
    {
      "cell_type": "markdown",
      "id": "f006b1d0-e899-4477-b60b-7489a5fa6560",
      "metadata": {},
      "source": [
        "### Climate model data\n",
        "\n",
        "You can use MACAv2 data for historical and future climate data. Be sure\n",
        "to compare at least two 30-year time periods (e.g. historical vs. 10\n",
        "years in the future) for at least four of the CMIP models. Overall, you\n",
        "should be downloading at least 8 climate rasters for each of your sites,\n",
        "for a total of 16. **You will *need* to use loops and/or functions to do\n",
        "this cleanly!**.\n",
        "\n",
        "<link rel=\"stylesheet\" type=\"text/css\" href=\"./assets/styles.css\"><div class=\"callout callout-style-default callout-titled callout-task\"><div class=\"callout-header\"><div class=\"callout-icon-container\"><i class=\"callout-icon\"></i></div><div class=\"callout-title-container flex-fill\">Try It</div></div><div class=\"callout-body-container callout-body\"><p>Write a <strong>function with a numpy-style docstring</strong> that\n",
        "will download MACAv2 data for a particular climate model, emissions\n",
        "scenario, spatial domain, and time frame. Then, use loops to download\n",
        "and organize the 16+ rasters you will need to complete this section. The\n",
        "<a\n",
        "href=\"http://thredds.northwestknowledge.net:8080/thredds/reacch_climate_CMIP5_macav2_catalog2.html\">MACAv2\n",
        "dataset is accessible from their Thredds server</a>. Include an\n",
        "arrangement of sites, models, emissions scenarios, and time periods that\n",
        "will help you to answer your scientific question.</p></div></div>"
      ]
    },
    {
      "cell_type": "code",
      "execution_count": 4,
      "id": "98f0ac7b",
      "metadata": {
        "highlight": true
      },
      "outputs": [],
      "source": [
        "# Download climate data"
      ]
    },
    {
      "cell_type": "markdown",
      "id": "4ee33c63-764e-4065-93c4-ac7e8d383224",
      "metadata": {},
      "source": [
        "<link rel=\"stylesheet\" type=\"text/css\" href=\"./assets/styles.css\"><div class=\"callout callout-style-default callout-titled callout-respond\"><div class=\"callout-header\"><div class=\"callout-icon-container\"><i class=\"callout-icon\"></i></div><div class=\"callout-title-container flex-fill\">Reflect and Respond</div></div><div class=\"callout-body-container callout-body\"><p>Make sure to include a description of the climate data and how you\n",
        "selected your models. Include a citation of the MACAv2 data</p></div></div>\n",
        "\n",
        "YOUR CLIMATE DATA DESCRIPTION AND CITATIONS HERE\n",
        "\n",
        "## STEP 3: HARMONIZE DATA\n",
        "\n",
        "<link rel=\"stylesheet\" type=\"text/css\" href=\"./assets/styles.css\"><div class=\"callout callout-style-default callout-titled callout-task\"><div class=\"callout-header\"><div class=\"callout-icon-container\"><i class=\"callout-icon\"></i></div><div class=\"callout-title-container flex-fill\">Try It</div></div><div class=\"callout-body-container callout-body\"><p>Make sure that the grids for all your data match each other. Check\n",
        "out the <a\n",
        "href=\"https://corteva.github.io/rioxarray/stable/examples/reproject_match.html#Reproject-Match\"><code>ds.rio.reproject_match()</code>\n",
        "method</a> from <code>rioxarray</code>. Make sure to use the data source\n",
        "that has the highest resolution as a template!</p></div></div>\n",
        "\n",
        "> **Warning**\n",
        ">\n",
        "> If you are reprojecting data as you need to here, the order of\n",
        "> operations is important! Recall that reprojecting will typically tilt\n",
        "> your data, leaving narrow sections of the data at the edge blank.\n",
        "> However, to reproject efficiently it is best for the raster to be as\n",
        "> small as possible before performing the operation. We recommend the\n",
        "> following process:\n",
        ">\n",
        ">     1. Crop the data, leaving a buffer around the final boundary\n",
        ">     2. Reproject to match the template grid (this will also crop any leftovers off the image)"
      ]
    },
    {
      "cell_type": "code",
      "execution_count": 5,
      "id": "900431fc",
      "metadata": {
        "highlight": true
      },
      "outputs": [],
      "source": [
        "# Download soil data"
      ]
    },
    {
      "cell_type": "markdown",
      "id": "b46dd20b-8772-46d6-9981-2be1fb91ef1b",
      "metadata": {},
      "source": [
        "## STEP 4: DEVELOP A FUZZY LOGIC MODEL\n",
        "\n",
        "A fuzzy logic model is one that is built on expert knowledge rather than\n",
        "training data. You may wish to use the\n",
        "[`scikit-fuzzy`](https://pythonhosted.org/scikit-fuzzy/) library, which\n",
        "includes many utilities for building this sort of model. In particular,\n",
        "it contains a number of **membership functions** which can convert your\n",
        "data into values from 0 to 1 using information such as, for example, the\n",
        "maximum, minimum, and optimal values for soil pH.\n",
        "\n",
        "<link rel=\"stylesheet\" type=\"text/css\" href=\"./assets/styles.css\"><div class=\"callout callout-style-default callout-titled callout-task\"><div class=\"callout-header\"><div class=\"callout-icon-container\"><i class=\"callout-icon\"></i></div><div class=\"callout-title-container flex-fill\">Try It</div></div><div class=\"callout-body-container callout-body\"><p>To train a fuzzy logic habitat suitability model:</p>\n",
        "<pre><code>1. Research S. nutans, and find out what optimal values are for each variable you are using (e.g. soil pH, slope, and current climatological annual precipitation). \n",
        "2. For each **digital number** in each raster, assign a **continuous** value from 0 to 1 for how close that grid square is to the optimum range (1=optimal, 0=incompatible). \n",
        "3. Combine your layers by multiplying them together. This will give you a single suitability number for each square.\n",
        "4. Optionally, you may apply a suitability threshold to make the most suitable areas pop on your map.</code></pre></div></div>\n",
        "\n",
        "> **Tip**\n",
        ">\n",
        "> If you use mathematical operators on a raster in Python, it will\n",
        "> automatically perform the operation for every number in the raster.\n",
        "> This type of operation is known as a **vectorized** function. **DO NOT\n",
        "> DO THIS WITH A LOOP!**. A vectorized function that operates on the\n",
        "> whole array at once will be much easier and faster."
      ]
    },
    {
      "cell_type": "code",
      "execution_count": 6,
      "id": "cacfdcef",
      "metadata": {
        "highlight": true
      },
      "outputs": [],
      "source": [
        "# Create fuzzy logic suitability model"
      ]
    },
    {
      "cell_type": "markdown",
      "id": "32ef3341-2f6d-4479-ae0d-b6e3c704a624",
      "metadata": {},
      "source": [
        "## STEP 5: PRESENT YOUR RESULTS\n",
        "\n",
        "<link rel=\"stylesheet\" type=\"text/css\" href=\"./assets/styles.css\"><div class=\"callout callout-style-default callout-titled callout-task\"><div class=\"callout-header\"><div class=\"callout-icon-container\"><i class=\"callout-icon\"></i></div><div class=\"callout-title-container flex-fill\">Try It</div></div><div class=\"callout-body-container callout-body\"><p>Generate some plots that show your key findings. Don’t forget to\n",
        "interpret your plots!</p></div></div>"
      ]
    },
    {
      "cell_type": "code",
      "execution_count": 7,
      "id": "0bafdd1b",
      "metadata": {
        "highlight": true
      },
      "outputs": [],
      "source": [
        "# Create plots"
      ]
    },
    {
      "cell_type": "markdown",
      "id": "11ec51a0-63dd-443b-80ae-c9f4c921f7af",
      "metadata": {},
      "source": [
        "YOUR PLOT INTERPRETATION HERE"
      ]
    }
  ],
  "metadata": {
    "kernelspec": {
      "display_name": "earth-analytics-python",
      "language": "python",
      "name": "python3"
    },
    "language_info": {
      "codemirror_mode": {
        "name": "ipython",
        "version": 3
      },
      "file_extension": ".py",
      "mimetype": "text/x-python",
      "name": "python",
      "nbconvert_exporter": "python",
      "pygments_lexer": "ipython3",
      "version": "3.11.10"
    }
  },
  "nbformat": 4,
  "nbformat_minor": 5
}
