{
  "cells": [
    {
      "cell_type": "markdown",
      "id": "4d57d093-4872-4994-ba5c-0dc6ff0dec7b",
      "metadata": {},
      "source": [
        "# Habitat Suitability under Climate Change\n",
        "\n",
        "### Our changing climate is altering where key species can live.This project creates a habitat suitability model for _Rododendron maximum_ using the [MACAv2 dataset](https://www.climatologylab.org/maca.html). This suitability assessment will be based on combining multiple data layers related to soil, topography, and climate. \n",
        "\n",
        "## Study Question and Overview\n",
        "### What are the potential climate change impacts on headwater habitats where _Rhododendron maximum_ currently exist?\n",
        "\n",
        "## Study Sites\n",
        "### North Carolina and Maine are both part of the Appalachian Mountains.\n",
        "\n",
        "## Time Periods and Climate Models\n",
        "### This study will look at data from 1988 to 2018 and project climate change from 2030 to 2060 using the following models:\n",
        "* MIROC5\n",
        "* NorESM1-M\n",
        "* MRI-CGCM3-Model\n",
        "* GFDL-ESM2M\n"
      ]
    },
    {
      "cell_type": "markdown",
      "id": "7b733766-e23f-43a2-a7fb-09ce0ddcf059",
      "metadata": {},
      "source": [
        "## Information Sources\n"
      ]
    },
    {
      "cell_type": "markdown",
      "id": "b2de1c19-5b83-45dd-a5ab-66b0bc438978",
      "metadata": {},
      "source": [
        "## STEP 2: DATA ACCESS\n",
        "\n",
        "### Soil data\n",
        "\n",
        "The [POLARIS dataset](http://hydrology.cee.duke.edu/POLARIS/) is a\n",
        "convenient way to uniformly access a variety of soil parameters such as\n",
        "pH and percent clay in the US. It is available for a range of depths (in\n",
        "cm) and split into 1x1 degree tiles.\n",
        "\n",
        "<link rel=\"stylesheet\" type=\"text/css\" href=\"./assets/styles.css\"><div class=\"callout callout-style-default callout-titled callout-task\"><div class=\"callout-header\"><div class=\"callout-icon-container\"><i class=\"callout-icon\"></i></div><div class=\"callout-title-container flex-fill\">Try It</div></div><div class=\"callout-body-container callout-body\"><p>Write a <strong>function with a numpy-style docstring</strong> that\n",
        "will download POLARIS data for a particular location, soil parameter,\n",
        "and soil depth. Your function should account for the situation where\n",
        "your site boundary crosses over multiple tiles, and merge the necessary\n",
        "data together.</p>\n",
        "<p>Then, use loops to download and organize the rasters you will need to\n",
        "complete this section. Include soil parameters that will help you to\n",
        "answer your scientific question. We recommend using a soil depth that\n",
        "best corresponds with the rooting depth of your species.</p></div></div>"
      ]
    },
    {
      "cell_type": "code",
      "execution_count": 2,
      "id": "a3800a22",
      "metadata": {
        "highlight": true
      },
      "outputs": [],
      "source": [
        "# Download soil data"
      ]
    },
    {
      "cell_type": "markdown",
      "id": "4aca6fd5-5219-4e04-8ac8-c5a6ecba9d9a",
      "metadata": {},
      "source": [
        "### Topographic data\n",
        "\n",
        "One way to access reliable elevation data is from the [SRTM\n",
        "dataset](https://www.earthdata.nasa.gov/data/instruments/srtm),\n",
        "available through the [earthaccess\n",
        "API](https://earthaccess.readthedocs.io/en/latest/quick-start/).\n",
        "\n",
        "<link rel=\"stylesheet\" type=\"text/css\" href=\"./assets/styles.css\"><div class=\"callout callout-style-default callout-titled callout-task\"><div class=\"callout-header\"><div class=\"callout-icon-container\"><i class=\"callout-icon\"></i></div><div class=\"callout-title-container flex-fill\">Try It</div></div><div class=\"callout-body-container callout-body\"><p>Write a <strong>function with a numpy-style docstring</strong> that\n",
        "will download SRTM elevation data for a particular location and\n",
        "calculate any additional topographic variables you need such as slope or\n",
        "aspect.</p>\n",
        "<p>Then, use loops to download and organize the rasters you will need to\n",
        "complete this section. Include topographic parameters that will help you\n",
        "to answer your scientific question.</p></div></div>\n",
        "\n",
        "> **Warning**\n",
        ">\n",
        "> Be careful when computing the slope from elevation that the units of\n",
        "> elevation match the projection units (e.g. meters and meters, not\n",
        "> meters and degrees). You will need to project the SRTM data to\n",
        "> complete this calculation correctly."
      ]
    },
    {
      "cell_type": "code",
      "execution_count": 3,
      "id": "ff99ab9d",
      "metadata": {
        "highlight": true
      },
      "outputs": [],
      "source": [
        "# Download soil data"
      ]
    },
    {
      "cell_type": "markdown",
      "id": "f006b1d0-e899-4477-b60b-7489a5fa6560",
      "metadata": {},
      "source": [
        "### Climate model data\n",
        "\n",
        "You can use MACAv2 data for historical and future climate data. Be sure\n",
        "to compare at least two 30-year time periods (e.g. historical vs. 10\n",
        "years in the future) for at least four of the CMIP models. Overall, you\n",
        "should be downloading at least 8 climate rasters for each of your sites,\n",
        "for a total of 16. **You will *need* to use loops and/or functions to do\n",
        "this cleanly!**.\n",
        "\n",
        "<link rel=\"stylesheet\" type=\"text/css\" href=\"./assets/styles.css\"><div class=\"callout callout-style-default callout-titled callout-task\"><div class=\"callout-header\"><div class=\"callout-icon-container\"><i class=\"callout-icon\"></i></div><div class=\"callout-title-container flex-fill\">Try It</div></div><div class=\"callout-body-container callout-body\"><p>Write a <strong>function with a numpy-style docstring</strong> that\n",
        "will download MACAv2 data for a particular climate model, emissions\n",
        "scenario, spatial domain, and time frame. Then, use loops to download\n",
        "and organize the 16+ rasters you will need to complete this section. The\n",
        "<a\n",
        "href=\"http://thredds.northwestknowledge.net:8080/thredds/reacch_climate_CMIP5_macav2_catalog2.html\">MACAv2\n",
        "dataset is accessible from their Thredds server</a>. Include an\n",
        "arrangement of sites, models, emissions scenarios, and time periods that\n",
        "will help you to answer your scientific question.</p></div></div>"
      ]
    },
    {
      "cell_type": "code",
      "execution_count": 4,
      "id": "98f0ac7b",
      "metadata": {
        "highlight": true
      },
      "outputs": [],
      "source": [
        "# Download climate data"
      ]
    },
    {
      "cell_type": "markdown",
      "id": "4ee33c63-764e-4065-93c4-ac7e8d383224",
      "metadata": {},
      "source": [
        "<link rel=\"stylesheet\" type=\"text/css\" href=\"./assets/styles.css\"><div class=\"callout callout-style-default callout-titled callout-respond\"><div class=\"callout-header\"><div class=\"callout-icon-container\"><i class=\"callout-icon\"></i></div><div class=\"callout-title-container flex-fill\">Reflect and Respond</div></div><div class=\"callout-body-container callout-body\"><p>Make sure to include a description of the climate data and how you\n",
        "selected your models. Include a citation of the MACAv2 data</p></div></div>\n",
        "\n",
        "YOUR CLIMATE DATA DESCRIPTION AND CITATIONS HERE\n",
        "\n",
        "## STEP 3: HARMONIZE DATA\n",
        "\n",
        "<link rel=\"stylesheet\" type=\"text/css\" href=\"./assets/styles.css\"><div class=\"callout callout-style-default callout-titled callout-task\"><div class=\"callout-header\"><div class=\"callout-icon-container\"><i class=\"callout-icon\"></i></div><div class=\"callout-title-container flex-fill\">Try It</div></div><div class=\"callout-body-container callout-body\"><p>Make sure that the grids for all your data match each other. Check\n",
        "out the <a\n",
        "href=\"https://corteva.github.io/rioxarray/stable/examples/reproject_match.html#Reproject-Match\"><code>ds.rio.reproject_match()</code>\n",
        "method</a> from <code>rioxarray</code>. Make sure to use the data source\n",
        "that has the highest resolution as a template!</p></div></div>\n",
        "\n",
        "> **Warning**\n",
        ">\n",
        "> If you are reprojecting data as you need to here, the order of\n",
        "> operations is important! Recall that reprojecting will typically tilt\n",
        "> your data, leaving narrow sections of the data at the edge blank.\n",
        "> However, to reproject efficiently it is best for the raster to be as\n",
        "> small as possible before performing the operation. We recommend the\n",
        "> following process:\n",
        ">\n",
        ">     1. Crop the data, leaving a buffer around the final boundary\n",
        ">     2. Reproject to match the template grid (this will also crop any leftovers off the image)"
      ]
    },
    {
      "cell_type": "code",
      "execution_count": 5,
      "id": "900431fc",
      "metadata": {
        "highlight": true
      },
      "outputs": [],
      "source": [
        "# Download soil data"
      ]
    },
    {
      "cell_type": "markdown",
      "id": "b46dd20b-8772-46d6-9981-2be1fb91ef1b",
      "metadata": {},
      "source": [
        "## STEP 4: DEVELOP A FUZZY LOGIC MODEL\n",
        "\n",
        "A fuzzy logic model is one that is built on expert knowledge rather than\n",
        "training data. You may wish to use the\n",
        "[`scikit-fuzzy`](https://pythonhosted.org/scikit-fuzzy/) library, which\n",
        "includes many utilities for building this sort of model. In particular,\n",
        "it contains a number of **membership functions** which can convert your\n",
        "data into values from 0 to 1 using information such as, for example, the\n",
        "maximum, minimum, and optimal values for soil pH.\n",
        "\n",
        "<link rel=\"stylesheet\" type=\"text/css\" href=\"./assets/styles.css\"><div class=\"callout callout-style-default callout-titled callout-task\"><div class=\"callout-header\"><div class=\"callout-icon-container\"><i class=\"callout-icon\"></i></div><div class=\"callout-title-container flex-fill\">Try It</div></div><div class=\"callout-body-container callout-body\"><p>To train a fuzzy logic habitat suitability model:</p>\n",
        "<pre><code>1. Research S. nutans, and find out what optimal values are for each variable you are using (e.g. soil pH, slope, and current climatological annual precipitation). \n",
        "2. For each **digital number** in each raster, assign a **continuous** value from 0 to 1 for how close that grid square is to the optimum range (1=optimal, 0=incompatible). \n",
        "3. Combine your layers by multiplying them together. This will give you a single suitability number for each square.\n",
        "4. Optionally, you may apply a suitability threshold to make the most suitable areas pop on your map.</code></pre></div></div>\n",
        "\n",
        "> **Tip**\n",
        ">\n",
        "> If you use mathematical operators on a raster in Python, it will\n",
        "> automatically perform the operation for every number in the raster.\n",
        "> This type of operation is known as a **vectorized** function. **DO NOT\n",
        "> DO THIS WITH A LOOP!**. A vectorized function that operates on the\n",
        "> whole array at once will be much easier and faster."
      ]
    },
    {
      "cell_type": "code",
      "execution_count": 6,
      "id": "cacfdcef",
      "metadata": {
        "highlight": true
      },
      "outputs": [],
      "source": [
        "# Create fuzzy logic suitability model"
      ]
    },
    {
      "cell_type": "markdown",
      "id": "32ef3341-2f6d-4479-ae0d-b6e3c704a624",
      "metadata": {},
      "source": [
        "## STEP 5: PRESENT YOUR RESULTS\n",
        "\n",
        "<link rel=\"stylesheet\" type=\"text/css\" href=\"./assets/styles.css\"><div class=\"callout callout-style-default callout-titled callout-task\"><div class=\"callout-header\"><div class=\"callout-icon-container\"><i class=\"callout-icon\"></i></div><div class=\"callout-title-container flex-fill\">Try It</div></div><div class=\"callout-body-container callout-body\"><p>Generate some plots that show your key findings. Don’t forget to\n",
        "interpret your plots!</p></div></div>"
      ]
    },
    {
      "cell_type": "code",
      "execution_count": 7,
      "id": "0bafdd1b",
      "metadata": {
        "highlight": true
      },
      "outputs": [],
      "source": [
        "# Create plots"
      ]
    },
    {
      "cell_type": "markdown",
      "id": "11ec51a0-63dd-443b-80ae-c9f4c921f7af",
      "metadata": {},
      "source": [
        "YOUR PLOT INTERPRETATION HERE"
      ]
    }
  ],
  "metadata": {
    "kernelspec": {
      "display_name": "earth-analytics-python",
      "language": "python",
      "name": "python3"
    },
    "language_info": {
      "name": "python",
      "version": "3.11.10"
    }
  },
  "nbformat": 4,
  "nbformat_minor": 5
}
